{
 "cells": [
  {
   "cell_type": "code",
   "execution_count": 5,
   "id": "9bf257bc",
   "metadata": {},
   "outputs": [
    {
     "name": "stdout",
     "output_type": "stream",
     "text": [
      "Epoch 1/10\n",
      "125/125 [==============================] - 16s 114ms/step - loss: 0.2724 - accuracy: 0.9107 - val_loss: 0.0238 - val_accuracy: 0.9920\n",
      "Epoch 2/10\n",
      "125/125 [==============================] - 13s 103ms/step - loss: 0.0216 - accuracy: 0.9942 - val_loss: 0.0022 - val_accuracy: 1.0000\n",
      "Epoch 3/10\n",
      "125/125 [==============================] - 15s 118ms/step - loss: 0.0013 - accuracy: 1.0000 - val_loss: 6.1431e-04 - val_accuracy: 1.0000\n",
      "Epoch 4/10\n",
      "125/125 [==============================] - 13s 105ms/step - loss: 4.7339e-04 - accuracy: 1.0000 - val_loss: 2.9657e-04 - val_accuracy: 1.0000\n",
      "Epoch 5/10\n",
      "125/125 [==============================] - 13s 106ms/step - loss: 2.6896e-04 - accuracy: 1.0000 - val_loss: 1.9975e-04 - val_accuracy: 1.0000\n",
      "Epoch 6/10\n",
      "125/125 [==============================] - 13s 105ms/step - loss: 1.6439e-04 - accuracy: 1.0000 - val_loss: 1.3873e-04 - val_accuracy: 1.0000\n",
      "Epoch 7/10\n",
      "125/125 [==============================] - 18s 141ms/step - loss: 1.2762e-04 - accuracy: 1.0000 - val_loss: 1.2758e-04 - val_accuracy: 1.0000\n",
      "Epoch 8/10\n",
      "125/125 [==============================] - 14s 114ms/step - loss: 9.5038e-05 - accuracy: 1.0000 - val_loss: 1.9153e-04 - val_accuracy: 1.0000\n",
      "Epoch 9/10\n",
      "125/125 [==============================] - 14s 114ms/step - loss: 8.3060e-05 - accuracy: 1.0000 - val_loss: 6.3062e-05 - val_accuracy: 1.0000\n",
      "Epoch 10/10\n",
      "125/125 [==============================] - 14s 113ms/step - loss: 5.1932e-05 - accuracy: 1.0000 - val_loss: 5.8374e-05 - val_accuracy: 1.0000\n",
      "Model saved as 'module.h5'.\n",
      "32/32 [==============================] - 1s 26ms/step - loss: 5.8374e-05 - accuracy: 1.0000\n",
      "Test loss: 5.8374484069645405e-05\n",
      "Test accuracy: 1.0\n"
     ]
    }
   ],
   "source": [
    "import numpy as np\n",
    "import tensorflow as tf\n",
    "from sklearn.model_selection import train_test_split\n",
    "from sklearn.preprocessing import LabelEncoder\n",
    "\n",
    "# Load and preprocess your dataset\n",
    "# Assuming 'X.npy' and 'y.npy' are in the same directory\n",
    "X = np.load('data.npy', allow_pickle=True).astype('float32')\n",
    "y = np.load('labels.npy', allow_pickle=True)\n",
    "\n",
    "# Convert labels to integer format\n",
    "label_encoder = LabelEncoder()\n",
    "y = label_encoder.fit_transform(y)\n",
    "\n",
    "# Split the dataset into training and testing sets\n",
    "X_train, X_test, y_train, y_test = train_test_split(X, y, test_size=0.2, random_state=42)\n",
    "\n",
    "# Normalize the input images\n",
    "X_train = X_train / 255.0\n",
    "X_test = X_test / 255.0\n",
    "\n",
    "# Calculate the number of classes\n",
    "num_classes = len(np.unique(y))\n",
    "\n",
    "# Define the CNN architecture\n",
    "model = tf.keras.Sequential([\n",
    "    tf.keras.layers.Conv2D(32, (3, 3), activation='relu', input_shape=X_train.shape[1:]),\n",
    "    tf.keras.layers.MaxPooling2D((2, 2)),\n",
    "    tf.keras.layers.Conv2D(64, (3, 3), activation='relu'),\n",
    "    tf.keras.layers.MaxPooling2D((2, 2)),\n",
    "    tf.keras.layers.Flatten(),\n",
    "    tf.keras.layers.Dense(64, activation='relu'),\n",
    "    tf.keras.layers.Dense(num_classes, activation='softmax')\n",
    "])\n",
    "\n",
    "# Compile the model\n",
    "model.compile(optimizer='adam',\n",
    "              loss='sparse_categorical_crossentropy',\n",
    "              metrics=['accuracy'])\n",
    "\n",
    "# Train the model\n",
    "model.fit(X_train, y_train, epochs=10, batch_size=32, validation_data=(X_test, y_test))\n",
    "\n",
    "# Save the trained model\n",
    "model.save('module.h5')\n",
    "print(\"Model saved as 'module.h5'.\")\n",
    "\n",
    "# Evaluate the model\n",
    "loss, accuracy = model.evaluate(X_test, y_test)\n",
    "print(\"Test loss:\", loss)\n",
    "print(\"Test accuracy:\", accuracy)\n"
   ]
  },
  {
   "cell_type": "code",
   "execution_count": 7,
   "id": "7ca13838",
   "metadata": {},
   "outputs": [
    {
     "name": "stdout",
     "output_type": "stream",
     "text": [
      "Unique Labels: ['bye' 'noball' 'out' 'six' 'timeout']\n",
      "Encoded Labels: [0 0 0 ... 4 4 4]\n"
     ]
    }
   ],
   "source": [
    "import numpy as np\n",
    "from sklearn.preprocessing import LabelEncoder\n",
    "\n",
    "# Assuming 'y.npy' is in the same directory\n",
    "y = np.load('labels.npy', allow_pickle=True)\n",
    "\n",
    "# Convert labels to integer format\n",
    "label_encoder = LabelEncoder()\n",
    "y_encoded = label_encoder.fit_transform(y)\n",
    "\n",
    "# Print the unique labels and their encoded integer values\n",
    "print(\"Unique Labels:\", label_encoder.classes_)\n",
    "print(\"Encoded Labels:\", y_encoded)\n"
   ]
  },
  {
   "cell_type": "code",
   "execution_count": null,
   "id": "10d382cc",
   "metadata": {},
   "outputs": [],
   "source": []
  }
 ],
 "metadata": {
  "kernelspec": {
   "display_name": "Python 3 (ipykernel)",
   "language": "python",
   "name": "python3"
  },
  "language_info": {
   "codemirror_mode": {
    "name": "ipython",
    "version": 3
   },
   "file_extension": ".py",
   "mimetype": "text/x-python",
   "name": "python",
   "nbconvert_exporter": "python",
   "pygments_lexer": "ipython3",
   "version": "3.9.13"
  }
 },
 "nbformat": 4,
 "nbformat_minor": 5
}
