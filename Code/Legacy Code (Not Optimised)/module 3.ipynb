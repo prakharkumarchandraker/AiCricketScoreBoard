{
 "cells": [
  {
   "cell_type": "code",
   "execution_count": 1,
   "metadata": {},
   "outputs": [],
   "source": [
    "#............................................Training & Testing using deep learning......................................#\n",
    "import os\n",
    "import cv2\n",
    "import time\n",
    "import numpy as np\n",
    "from keras.layers import Conv2D \n",
    "from keras.layers import Dense\n",
    "from keras.layers import Flatten\n",
    "from keras.layers import Dropout\n",
    "from keras.layers import MaxPooling2D\n",
    "from keras.models import Sequential, save_model\n",
    "from keras.utils import np_utils\n",
    "from keras.callbacks import ModelCheckpoint\n",
    "from keras.models import load_model\n",
    "from sklearn.model_selection import train_test_split\n",
    "from sklearn.utils import shuffle\n",
    "from sklearn.metrics import accuracy_score\n",
    "from sklearn.metrics import classification_report, confusion_matrix\n",
    "import warnings\n",
    "warnings.filterwarnings(action = 'ignore')\n",
    "import seaborn as sns\n",
    "import matplotlib.pyplot as plt\n",
    "%matplotlib inline"
   ]
  },
  {
   "cell_type": "code",
   "execution_count": 2,
   "metadata": {},
   "outputs": [],
   "source": [
    "path = 'Preprocessed/Train/' #To retrieve an image file from the \"Train\" directory within the \"Preprocessed\" directory"
   ]
  },
  {
   "cell_type": "code",
   "execution_count": 3,
   "metadata": {},
   "outputs": [],
   "source": [
    "gestures = os.listdir(path) # creates a list of all files and directories at the specified file path, and assigns it to the variable 'gestures'"
   ]
  },
  {
   "cell_type": "code",
   "execution_count": 9,
   "metadata": {},
   "outputs": [],
   "source": [
    "dict_labels = { # maps labels to specific keys using the pre-defined dictionary \"dict_labels\".\n",
    "    'out': 1, # the key 'out' is mapped to the integer value 1.\n",
    "    'noball': 2, # the key 'noball' is mapped to the integer value 2.\n",
    "   'timeout': 3,\n",
    "    'bye': 4,\n",
    "    'six':5\n",
    "}"
   ]
  },
  {
   "cell_type": "code",
   "execution_count": 10,
   "metadata": {},
   "outputs": [
    {
     "name": "stdout",
     "output_type": "stream",
     "text": [
      "['out', 'noball', 'timeout', 'bye', 'six']\n"
     ]
    }
   ],
   "source": [
    "print(list(dict_labels.keys())) # prints a list of the keys in the dictionary \"dict_labels\", which in this case are 'out' and 'noball'."
   ]
  },
  {
   "cell_type": "code",
   "execution_count": 11,
   "metadata": {},
   "outputs": [],
   "source": [
    "x, y = [], [] # creates two empty lists named 'x' and 'y' and assigns them to the variables 'x' and 'y'.\n",
    "for ix in gestures: # This is a for loop in Python that loops through a list named \"gestures\" and assigns each element to the variable \"ix\".\n",
    "    images = os.listdir(path + ix) # retrieving a list of files and directories located in a folder obtained by combining a variable 'path' with the current element 'ix' in the loop, and saves the list to a variable 'images'\n",
    "    for cx in images: # Python loop iterates each \"images\" element, assigning to variable \"cx\"\n",
    "        img_path = path + ix + '/' + cx # creating a file path for a specific image by concatenating the strings 'path', 'ix', and 'cx', and stores it in the variable 'img_path'\n",
    "        img = cv2.imread(img_path, 0) # here OpenCV library's 'imread' function is used to read a grayscale image from the file path stored in 'img_path' and assigns it to the variable 'img'.\n",
    "        img = img.reshape((50,50,1)) # reshaping an image into a 3D array with dimensions 50x50x1.\n",
    "        img = img/255.0 # normalizes the pixel values of an image by scaling them down to a range of 0 to 1\n",
    "        x.append(img) # adds an image or array of pixel values to the end of a list.\n",
    "        y.append(dict_labels[ix]) # contains labels of the image "
   ]
  },
  {
   "cell_type": "code",
   "execution_count": 12,
   "metadata": {},
   "outputs": [
    {
     "name": "stdout",
     "output_type": "stream",
     "text": [
      "<class 'numpy.ndarray'> 5000\n"
     ]
    },
    {
     "data": {
      "text/plain": [
       "(5000, 6)"
      ]
     },
     "execution_count": 12,
     "metadata": {},
     "output_type": "execute_result"
    }
   ],
   "source": [
    "X = np.array(x) # converts a list x into a NumPy array X\n",
    "Y = np.array(y) # converts a list y into a NumPy array Y\n",
    "Y = np_utils.to_categorical(Y) # puts the labels into ctegory example (1. no ball,2.out)\n",
    "print(type(Y),len(Y)) #  prints the data type and length of the variable.\n",
    "Y.shape # outputs the shape or dimensions of the NumPy array Y"
   ]
  },
  {
   "cell_type": "code",
   "execution_count": 13,
   "metadata": {
    "scrolled": true
   },
   "outputs": [
    {
     "data": {
      "text/plain": [
       "<AxesSubplot:ylabel='count'>"
      ]
     },
     "execution_count": 13,
     "metadata": {},
     "output_type": "execute_result"
    },
    {
     "data": {
      "image/png": "[encoded data removed]",
      "text/plain": [
       "<Figure size 1800x800 with 1 Axes>"
      ]
     },
     "metadata": {},
     "output_type": "display_data"
    }
   ],
   "source": [
    "plt.figure(figsize = (18,8)) # creates a new Matplotlib figure with dimensions of 18 inches by 8 inches for plotting or visualizing data.\n",
    "sns.countplot(x=list(dict_labels.keys())) # sns (seabor) , creates a count plot using Seaborn to visualize the number of occurrences of each category key in a dictionary dict_labels "
   ]
  },
  {
   "cell_type": "code",
   "execution_count": 14,
   "metadata": {},
   "outputs": [
    {
     "data": {
      "text/plain": [
       "(5000, 6)"
      ]
     },
     "execution_count": 14,
     "metadata": {},
     "output_type": "execute_result"
    }
   ],
   "source": [
    "Y.shape # tells us how many elements are present along each axis or dimension in the NumPy array Y."
   ]
  },
  {
   "cell_type": "code",
   "execution_count": 15,
   "metadata": {},
   "outputs": [],
   "source": [
    "categories = Y.shape[1] # assigns the number of columns or categories present in the one-hot encoded NumPy array Y to the variable categories."
   ]
  },
  {
   "cell_type": "code",
   "execution_count": 16,
   "metadata": {},
   "outputs": [],
   "source": [
    "X, Y = shuffle(X, Y, random_state=0) # shuffles two NumPy arrays X and Y randomly in  with a seed value of 0 using shuffle() function from scikit-learn: X , (random state = 0) means how many times it is going to shuffle."
   ]
  },
  {
   "cell_type": "code",
   "execution_count": 17,
   "metadata": {},
   "outputs": [
    {
     "data": {
      "text/plain": [
       "(5000, 50, 50, 1)"
      ]
     },
     "execution_count": 17,
     "metadata": {},
     "output_type": "execute_result"
    }
   ],
   "source": [
    "X.shape # returns the dimensions or shape of the NumPy array X, which has a length of 2000 in the first dimension (rows), and 50 in each of the remaining three dimensions (columns, height, and channel), where the last dimension represents the number of color channels in the image (1 for grayscale or 3 for RGB)."
   ]
  },
  {
   "cell_type": "code",
   "execution_count": 18,
   "metadata": {},
   "outputs": [],
   "source": [
    "X_train, X_test, Y_train, Y_test = train_test_split(X, Y, test_size=0.3) # dividing the data into train,test,split ,This code uses the scikit-learn train_test_split() function to split two NumPy arrays X and Y into a training set and a testing set, with a 70/30 ratio and returns four arrays: X_train, X_test, Y_train, and Y_test."
   ]
  },
  {
   "cell_type": "code",
   "execution_count": 19,
   "metadata": {},
   "outputs": [
    {
     "name": "stdout",
     "output_type": "stream",
     "text": [
      "(3500, 50, 50, 1) (1500, 50, 50, 1)\n",
      "(3500, 6) (1500, 6)\n"
     ]
    }
   ],
   "source": [
    "print(X_train.shape, X_test.shape) # prints the dimensions or shapes of the training and testing sets of the NumPy arrays X, which have 1400 and 600 rows, respectively, and a common shape of (50, 50, 1) representing the size of each image in the dataset.\n",
    "print(Y_train.shape, Y_test.shape) # prints the shapes of the training and testing sets of the one-hot encoded NumPy array Y, which have 1400 and 600 rows, respectively, and 3 columns representing the 3 categories in the dataset."
   ]
  },
  {
   "cell_type": "code",
   "execution_count": 20,
   "metadata": {},
   "outputs": [
    {
     "name": "stdout",
     "output_type": "stream",
     "text": [
      "Model: \"sequential\"\n",
      "_________________________________________________________________\n",
      " Layer (type)                Output Shape              Param #   \n",
      "=================================================================\n",
      " conv2d (Conv2D)             (None, 48, 48, 64)        640       \n",
      "                                                                 \n",
      " max_pooling2d (MaxPooling2D  (None, 24, 24, 64)       0         \n",
      " )                                                               \n",
      "                                                                 \n",
      " conv2d_1 (Conv2D)           (None, 22, 22, 64)        36928     \n",
      "                                                                 \n",
      " max_pooling2d_1 (MaxPooling  (None, 11, 11, 64)       0         \n",
      " 2D)                                                             \n",
      "                                                                 \n",
      " conv2d_2 (Conv2D)           (None, 9, 9, 64)          36928     \n",
      "                                                                 \n",
      " max_pooling2d_2 (MaxPooling  (None, 4, 4, 64)         0         \n",
      " 2D)                                                             \n",
      "                                                                 \n",
      " flatten (Flatten)           (None, 1024)              0         \n",
      "                                                                 \n",
      " dense (Dense)               (None, 128)               131200    \n",
      "                                                                 \n",
      " dropout (Dropout)           (None, 128)               0         \n",
      "                                                                 \n",
      " dense_1 (Dense)             (None, 6)                 774       \n",
      "                                                                 \n",
      "=================================================================\n",
      "Total params: 206,470\n",
      "Trainable params: 206,470\n",
      "Non-trainable params: 0\n",
      "_________________________________________________________________\n"
     ]
    }
   ],
   "source": [
    "model = Sequential() # using sequential model by importing the keras.models , from sequential model we are getting the object and the object name is smodel.\n",
    "model.add(Conv2D(64, kernel_size=(3,3), activation = 'relu', input_shape=(50,50 ,1) )) #convolutional contains multiple layer so the first layer is convo2D layer where we are passing the input where 64 is filter size, relu  is activation function and 3*3 is kernel size(to load data more memory is required)\n",
    "model.add(MaxPooling2D(pool_size = (2, 2))) # adds a layer to the neural network model using Keras that performs max pooling, which reduces the size of the output from the previous layer by taking the maximum value within a 2x2 window. This helps to reduce the number of parameters and prevent overfitting.\n",
    "\n",
    "model.add(Conv2D(64, kernel_size = (3, 3), activation = 'relu')) \n",
    "model.add(MaxPooling2D(pool_size = (2, 2))) \n",
    "\n",
    "model.add(Conv2D(64, kernel_size = (3, 3), activation = 'relu')) \n",
    "model.add(MaxPooling2D(pool_size = (2, 2))) \n",
    "\n",
    "model.add(Flatten()) # adds a flatten layer to the neural network model using Keras that converts the 2D input data into a 1D array, which can be passed to the next fully connected layer.\n",
    "model.add(Dense(128, activation = 'relu')) # dense layer is important layer main learning process goes on 128 is its memory size\n",
    "model.add(Dropout(0.20)) # adds a dropout layer to the neural network model using Keras that randomly sets 20% of the input units to 0 during each training epoch, which helps to reduce overfitting\n",
    "model.add(Dense(categories, activation = 'softmax')) # total no. of categories is passed for lassification\n",
    "\n",
    "model.summary() # displays a summary of the neural network model using Keras that includes the layers, output shape, number of parameters, and activation functions."
   ]
  },
  {
   "cell_type": "code",
   "execution_count": 21,
   "metadata": {},
   "outputs": [],
   "source": [
    "model.compile(optimizer='Adam', metrics=['accuracy'], loss='categorical_crossentropy') # compiles the neural network model using Keras with the Adam optimizer, 'accuracy' as the performance metric, and categorical crossentropy as the loss function to minimize during training."
   ]
  },
  {
   "cell_type": "code",
   "execution_count": 22,
   "metadata": {
    "scrolled": false
   },
   "outputs": [
    {
     "name": "stdout",
     "output_type": "stream",
     "text": [
      "Epoch 1/50\n",
      "28/28 [==============================] - 15s 486ms/step - loss: 0.5468 - accuracy: 0.8366 - val_loss: 0.0134 - val_accuracy: 0.9933\n",
      "Epoch 2/50\n",
      "28/28 [==============================] - 13s 463ms/step - loss: 0.0257 - accuracy: 0.9920 - val_loss: 0.0039 - val_accuracy: 0.9987\n",
      "Epoch 3/50\n",
      "28/28 [==============================] - 13s 461ms/step - loss: 0.0106 - accuracy: 0.9971 - val_loss: 0.0044 - val_accuracy: 0.9973\n",
      "Epoch 4/50\n",
      "28/28 [==============================] - 13s 462ms/step - loss: 0.0035 - accuracy: 0.9991 - val_loss: 6.8376e-04 - val_accuracy: 1.0000\n",
      "Epoch 5/50\n",
      "28/28 [==============================] - 14s 485ms/step - loss: 0.0013 - accuracy: 1.0000 - val_loss: 2.4351e-04 - val_accuracy: 1.0000\n",
      "Epoch 6/50\n",
      "28/28 [==============================] - 13s 468ms/step - loss: 8.9663e-04 - accuracy: 0.9997 - val_loss: 1.6652e-04 - val_accuracy: 1.0000\n",
      "Epoch 7/50\n",
      "28/28 [==============================] - 12s 436ms/step - loss: 5.5962e-04 - accuracy: 1.0000 - val_loss: 6.5045e-04 - val_accuracy: 1.0000\n",
      "Epoch 8/50\n",
      "28/28 [==============================] - 12s 438ms/step - loss: 0.0030 - accuracy: 0.9986 - val_loss: 2.9929e-04 - val_accuracy: 1.0000\n",
      "Epoch 9/50\n",
      "28/28 [==============================] - 13s 456ms/step - loss: 0.0066 - accuracy: 0.9971 - val_loss: 1.4607e-04 - val_accuracy: 1.0000\n",
      "Epoch 10/50\n",
      "28/28 [==============================] - 13s 473ms/step - loss: 3.4373e-04 - accuracy: 1.0000 - val_loss: 4.4317e-05 - val_accuracy: 1.0000\n",
      "Epoch 11/50\n",
      "28/28 [==============================] - 13s 461ms/step - loss: 1.2660e-04 - accuracy: 1.0000 - val_loss: 2.1239e-05 - val_accuracy: 1.0000\n",
      "Epoch 12/50\n",
      "28/28 [==============================] - 13s 456ms/step - loss: 8.9515e-05 - accuracy: 1.0000 - val_loss: 1.5560e-05 - val_accuracy: 1.0000\n",
      "Epoch 13/50\n",
      "28/28 [==============================] - 13s 451ms/step - loss: 6.1516e-05 - accuracy: 1.0000 - val_loss: 1.1425e-05 - val_accuracy: 1.0000\n",
      "Epoch 14/50\n",
      "28/28 [==============================] - 14s 498ms/step - loss: 5.5570e-05 - accuracy: 1.0000 - val_loss: 9.0110e-06 - val_accuracy: 1.0000\n",
      "Epoch 15/50\n",
      "28/28 [==============================] - 14s 510ms/step - loss: 7.3057e-05 - accuracy: 1.0000 - val_loss: 7.4131e-06 - val_accuracy: 1.0000\n",
      "Epoch 16/50\n",
      "28/28 [==============================] - 14s 507ms/step - loss: 4.2083e-05 - accuracy: 1.0000 - val_loss: 5.8454e-06 - val_accuracy: 1.0000\n",
      "Epoch 17/50\n",
      "28/28 [==============================] - 14s 518ms/step - loss: 3.8079e-05 - accuracy: 1.0000 - val_loss: 4.8694e-06 - val_accuracy: 1.0000\n",
      "Epoch 18/50\n",
      "28/28 [==============================] - 14s 513ms/step - loss: 5.1412e-04 - accuracy: 0.9997 - val_loss: 1.9491e-05 - val_accuracy: 1.0000\n",
      "Epoch 19/50\n",
      "28/28 [==============================] - 13s 456ms/step - loss: 1.6506e-04 - accuracy: 1.0000 - val_loss: 1.4373e-05 - val_accuracy: 1.0000\n",
      "Epoch 20/50\n",
      "28/28 [==============================] - 13s 446ms/step - loss: 4.1646e-05 - accuracy: 1.0000 - val_loss: 4.2879e-06 - val_accuracy: 1.0000\n",
      "Epoch 21/50\n",
      "28/28 [==============================] - 13s 452ms/step - loss: 2.4788e-05 - accuracy: 1.0000 - val_loss: 3.3227e-06 - val_accuracy: 1.0000\n",
      "Epoch 22/50\n",
      "28/28 [==============================] - 13s 449ms/step - loss: 2.5349e-05 - accuracy: 1.0000 - val_loss: 2.2770e-06 - val_accuracy: 1.0000\n",
      "Epoch 23/50\n",
      "28/28 [==============================] - 13s 458ms/step - loss: 3.4397e-05 - accuracy: 1.0000 - val_loss: 2.1602e-06 - val_accuracy: 1.0000\n",
      "Epoch 24/50\n",
      "28/28 [==============================] - 13s 452ms/step - loss: 3.1249e-05 - accuracy: 1.0000 - val_loss: 2.1365e-06 - val_accuracy: 1.0000\n",
      "Epoch 25/50\n",
      "28/28 [==============================] - 12s 448ms/step - loss: 2.5164e-05 - accuracy: 1.0000 - val_loss: 1.5177e-06 - val_accuracy: 1.0000\n",
      "Epoch 26/50\n",
      "28/28 [==============================] - 12s 447ms/step - loss: 1.5905e-05 - accuracy: 1.0000 - val_loss: 1.1906e-06 - val_accuracy: 1.0000\n",
      "Epoch 27/50\n",
      "28/28 [==============================] - 12s 448ms/step - loss: 1.3967e-05 - accuracy: 1.0000 - val_loss: 1.1249e-06 - val_accuracy: 1.0000\n",
      "Epoch 28/50\n",
      "28/28 [==============================] - 13s 458ms/step - loss: 2.1107e-05 - accuracy: 1.0000 - val_loss: 9.9974e-07 - val_accuracy: 1.0000\n",
      "Epoch 29/50\n",
      "28/28 [==============================] - 13s 449ms/step - loss: 1.6509e-05 - accuracy: 1.0000 - val_loss: 1.0469e-06 - val_accuracy: 1.0000\n",
      "Epoch 30/50\n",
      "28/28 [==============================] - 12s 444ms/step - loss: 5.8325e-05 - accuracy: 1.0000 - val_loss: 5.0993e-06 - val_accuracy: 1.0000\n",
      "Epoch 31/50\n",
      "28/28 [==============================] - 13s 458ms/step - loss: 9.5147e-06 - accuracy: 1.0000 - val_loss: 1.7293e-06 - val_accuracy: 1.0000\n",
      "Epoch 32/50\n",
      "28/28 [==============================] - 14s 510ms/step - loss: 2.1322e-05 - accuracy: 1.0000 - val_loss: 1.0349e-06 - val_accuracy: 1.0000\n",
      "Epoch 33/50\n",
      "28/28 [==============================] - 14s 483ms/step - loss: 1.1643e-05 - accuracy: 1.0000 - val_loss: 9.7119e-07 - val_accuracy: 1.0000\n",
      "Epoch 34/50\n",
      "28/28 [==============================] - 15s 531ms/step - loss: 5.2331e-05 - accuracy: 1.0000 - val_loss: 3.0283e-06 - val_accuracy: 1.0000\n",
      "Epoch 35/50\n",
      "28/28 [==============================] - 13s 462ms/step - loss: 1.5531e-05 - accuracy: 1.0000 - val_loss: 1.3390e-06 - val_accuracy: 1.0000\n",
      "Epoch 36/50\n",
      "28/28 [==============================] - 13s 450ms/step - loss: 1.1640e-05 - accuracy: 1.0000 - val_loss: 9.6191e-07 - val_accuracy: 1.0000\n",
      "Epoch 37/50\n",
      "28/28 [==============================] - 13s 448ms/step - loss: 1.2144e-05 - accuracy: 1.0000 - val_loss: 6.0660e-07 - val_accuracy: 1.0000\n",
      "Epoch 38/50\n",
      "28/28 [==============================] - 13s 459ms/step - loss: 5.7033e-06 - accuracy: 1.0000 - val_loss: 6.2138e-07 - val_accuracy: 1.0000\n",
      "Epoch 39/50\n",
      "28/28 [==============================] - 14s 487ms/step - loss: 8.4923e-06 - accuracy: 1.0000 - val_loss: 5.7044e-07 - val_accuracy: 1.0000\n",
      "Epoch 40/50\n",
      "28/28 [==============================] - 13s 477ms/step - loss: 4.1050e-06 - accuracy: 1.0000 - val_loss: 4.7325e-07 - val_accuracy: 1.0000\n",
      "Epoch 41/50\n",
      "28/28 [==============================] - 13s 474ms/step - loss: 1.2981e-05 - accuracy: 1.0000 - val_loss: 4.5044e-07 - val_accuracy: 1.0000\n",
      "Epoch 42/50\n",
      "28/28 [==============================] - 13s 452ms/step - loss: 4.7444e-06 - accuracy: 1.0000 - val_loss: 3.5564e-07 - val_accuracy: 1.0000\n",
      "Epoch 43/50\n",
      "28/28 [==============================] - 13s 458ms/step - loss: 2.8923e-06 - accuracy: 1.0000 - val_loss: 3.1073e-07 - val_accuracy: 1.0000\n",
      "Epoch 44/50\n",
      "28/28 [==============================] - 13s 452ms/step - loss: 1.1579e-05 - accuracy: 1.0000 - val_loss: 3.0525e-07 - val_accuracy: 1.0000\n",
      "Epoch 45/50\n",
      "28/28 [==============================] - 13s 463ms/step - loss: 4.5092e-06 - accuracy: 1.0000 - val_loss: 2.7577e-07 - val_accuracy: 1.0000\n",
      "Epoch 46/50\n",
      "28/28 [==============================] - 13s 458ms/step - loss: 3.0124e-06 - accuracy: 1.0000 - val_loss: 2.6695e-07 - val_accuracy: 1.0000\n",
      "Epoch 47/50\n",
      "28/28 [==============================] - 13s 463ms/step - loss: 6.0860e-06 - accuracy: 1.0000 - val_loss: 2.3643e-07 - val_accuracy: 1.0000\n",
      "Epoch 48/50\n",
      "28/28 [==============================] - 13s 474ms/step - loss: 2.7994e-06 - accuracy: 1.0000 - val_loss: 2.1744e-07 - val_accuracy: 1.0000\n",
      "Epoch 49/50\n",
      "28/28 [==============================] - 13s 451ms/step - loss: 3.2536e-06 - accuracy: 1.0000 - val_loss: 2.2379e-07 - val_accuracy: 1.0000\n",
      "Epoch 50/50\n",
      "28/28 [==============================] - 13s 453ms/step - loss: 2.8007e-06 - accuracy: 1.0000 - val_loss: 2.0750e-07 - val_accuracy: 1.0000\n"
     ]
    }
   ],
   "source": [
    "history = model.fit(X_train, Y_train, batch_size=128, epochs=50, validation_data=[X_test, Y_test])# training process x_train contains data and y_train contains labels , epoch = 50 means 50 times iteration is done, 128 image it process ."
   ]
  },
  {
   "cell_type": "code",
   "execution_count": 24,
   "metadata": {},
   "outputs": [
    {
     "data": {
      "image/png": "[encoded data removed]",
      "text/plain": [
       "<Figure size 640x480 with 1 Axes>"
      ]
     },
     "metadata": {},
     "output_type": "display_data"
    }
   ],
   "source": [
    "plt.plot(history.history['accuracy']) # plots the accuracy metric over the course of the training epochs, which allows us to visualize how well the model is learning from the training data\n",
    "plt.plot(history.history['val_accuracy']) #  plots the validation accuracy metric over the course of the training epochs, which allows us to visualize how well the model is generalizing to new, unseen data.\n",
    "plt.title(\"Accuracy\") # sets the title of the plot to \"Accuracy\".\n",
    "plt.xlabel('epoch') # sets the label of the x-axis of the plot to \"epoch\".\n",
    "plt.ylabel('accuracy') # sets the label of the y-axis of the plot to \"accuracy\".\n",
    "plt.legend(['train','test']) # adds a legend to the plot with the labels \"train\" and \"test\".\n",
    "plt.show() # displays the plot.\n"
   ]
  },
  {
   "cell_type": "code",
   "execution_count": 25,
   "metadata": {},
   "outputs": [],
   "source": [
    "model.save('CNN_model.h5') # Saves the trained CNN model to a file named 'CNN_model.h5' h5 is file format"
   ]
  },
  {
   "cell_type": "code",
   "execution_count": 26,
   "metadata": {},
   "outputs": [],
   "source": [
    "m = load_model('CNN_model.h5') #  loads the saved CNN model from the 'CNN_model.h5' file into a variable named 'm'."
   ]
  },
  {
   "cell_type": "code",
   "execution_count": 27,
   "metadata": {},
   "outputs": [],
   "source": [
    "test_data = os.listdir('Test/') #  reads the names of all the files present in the 'Test/' directory and stores them in a list called 'test_data'."
   ]
  },
  {
   "cell_type": "code",
   "execution_count": 28,
   "metadata": {},
   "outputs": [
    {
     "data": {
      "text/plain": [
       "{'out': 1, 'noball': 2, 'timeout': 3, 'bye': 4, 'six': 5}"
      ]
     },
     "execution_count": 28,
     "metadata": {},
     "output_type": "execute_result"
    }
   ],
   "source": [
    "dict_labels # dict_labels refers to a dictionary containing the mapping of the categorical labels to their respective string labels."
   ]
  },
  {
   "cell_type": "code",
   "execution_count": 29,
   "metadata": {},
   "outputs": [
    {
     "name": "stdout",
     "output_type": "stream",
     "text": [
      "bye\n",
      "noball\n",
      "out\n",
      "six\n",
      "timeout\n"
     ]
    }
   ],
   "source": [
    "for ix in test_data: # for loop that iterates through each element in the test_data list.\n",
    "    print(ix) # nts the value of the variable ix"
   ]
  },
  {
   "cell_type": "code",
   "execution_count": 30,
   "metadata": {},
   "outputs": [],
   "source": [
    "x, y = [], [] # initializes two empty lists, x and y.\n",
    "for ix in test_data: # for loop iterating over each file name in the test_data list.\n",
    "    images = os.listdir('Test/' + ix) #  lists all the files in the directory 'Test/' + ix, where ix is a string variable that represents a specific folder in the 'Test/' directory.For example, if ix is 'cat', the code will list all the files in the 'Test/cat' directory.\n",
    "    for cx in range(1,201): # for loop that runs 200 times, from cx = 1 to cx = 200. During each iteration of the loop, the code inside the loop is executed.\n",
    "        img_path = 'Test/' + ix + '/' + str(cx) + '.jpg' # Loop through each subdirectory in the Test directory, then loop through each of the 200 images in that subdirectory, constructing the file path for each image.\n",
    "        img = cv2.imread(img_path, 0) # reads an image using OpenCV library from the specified file path 'img_path' in grayscale mode, meaning the image will be loaded in black and white format.\n",
    "        img = img.reshape((50,50,1)) #  takes the image array img and reshapes it to a 3D array of shape (50,50,1), where the first two dimensions represent the image dimensions and the last dimension is the number of channels. Here, there is only one channel as the images are grayscale.\n",
    "        img = img/255.0 \n",
    "        x.append(img) \n",
    "        y.append(dict_labels[ix])  "
   ]
  },
  {
   "cell_type": "code",
   "execution_count": 31,
   "metadata": {},
   "outputs": [],
   "source": [
    "X_t = np.array(x) # creates a numpy array X_t from the list x by converting it to a numpy array. This is often done to convert a list of arrays or values into a format that can be used in machine learning models. In this case, it is likely that x contains a list of images that have been preprocessed and resized for use in a machine learning model.\n",
    "y_t = np.array(y) \n",
    "Y_t = np_utils.to_categorical(y_t) # converts a class vector (integers) to binary class matrix. In other words, it converts the label (Y_t) into a one-hot encoding format so that the model can predict the label for each test image."
   ]
  },
  {
   "cell_type": "code",
   "execution_count": 32,
   "metadata": {},
   "outputs": [
    {
     "data": {
      "text/plain": [
       "(1000, 50, 50, 1)"
      ]
     },
     "execution_count": 32,
     "metadata": {},
     "output_type": "execute_result"
    }
   ],
   "source": [
    "X_t.shape # means that the shape of the numpy array X_t is (400, 50, 50, 1), where 400 is the number of samples, 50 is the width and height of each image in pixels, and 1 represents that the images are grayscale."
   ]
  },
  {
   "cell_type": "code",
   "execution_count": 33,
   "metadata": {},
   "outputs": [
    {
     "name": "stdout",
     "output_type": "stream",
     "text": [
      "32/32 [==============================] - 1s 28ms/step\n"
     ]
    }
   ],
   "source": [
    "y_pred = m.predict(X_t) # code is using the trained model m to make predictions on the test data X_t and storing the predictions in the variable y_pred. The output shows that the predictions were made for 13 batches of test data and the processing time for each batch."
   ]
  },
  {
   "cell_type": "code",
   "execution_count": 34,
   "metadata": {},
   "outputs": [
    {
     "name": "stdout",
     "output_type": "stream",
     "text": [
      "Accuracy: 1.0\n"
     ]
    }
   ],
   "source": [
    "acc = accuracy_score(Y_t, y_pred.round()) # The accuracy_score function from the sklearn.metrics module is used to calculate the accuracy score between predicted y_pred and actual labels Y_t, which is stored in variable acc.\n",
    "print('Accuracy:', acc) # prints the string \"Accuracy:\" followed by the value of the variable acc, which is the accuracy score of the predicted labels compared to the actual labels. In this case, the accuracy is perfect (1.0)."
   ]
  },
  {
   "cell_type": "code",
   "execution_count": 35,
   "metadata": {},
   "outputs": [
    {
     "name": "stdout",
     "output_type": "stream",
     "text": [
      "              precision    recall  f1-score   support\n",
      "\n",
      "           0       0.00      0.00      0.00         0\n",
      "           1       1.00      1.00      1.00       200\n",
      "           2       1.00      1.00      1.00       200\n",
      "           3       1.00      1.00      1.00       200\n",
      "           4       1.00      1.00      1.00       200\n",
      "           5       1.00      1.00      1.00       200\n",
      "\n",
      "   micro avg       1.00      1.00      1.00      1000\n",
      "   macro avg       0.83      0.83      0.83      1000\n",
      "weighted avg       1.00      1.00      1.00      1000\n",
      " samples avg       1.00      1.00      1.00      1000\n",
      "\n"
     ]
    }
   ],
   "source": [
    "print(classification_report(y_pred.round(), Y_t)) # The classification_report() function prints the precision, recall, and F1-score for each class and the overall accuracy of the model, based on the predicted and true labels of the test set."
   ]
  },
  {
   "cell_type": "code",
   "execution_count": null,
   "metadata": {},
   "outputs": [],
   "source": []
  },
  {
   "cell_type": "code",
   "execution_count": null,
   "metadata": {},
   "outputs": [],
   "source": []
  },
  {
   "cell_type": "code",
   "execution_count": null,
   "metadata": {},
   "outputs": [],
   "source": []
  },
  {
   "cell_type": "code",
   "execution_count": null,
   "metadata": {},
   "outputs": [],
   "source": []
  }
 ],
 "metadata": {
  "kernelspec": {
   "display_name": "Python 3 (ipykernel)",
   "language": "python",
   "name": "python3"
  },
  "language_info": {
   "codemirror_mode": {
    "name": "ipython",
    "version": 3
   },
   "file_extension": ".py",
   "mimetype": "text/x-python",
   "name": "python",
   "nbconvert_exporter": "python",
   "pygments_lexer": "ipython3",
   "version": "3.9.13"
  }
 },
 "nbformat": 4,
 "nbformat_minor": 2
}
