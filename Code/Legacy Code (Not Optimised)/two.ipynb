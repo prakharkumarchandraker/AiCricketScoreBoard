{
 "cells": [
  {
   "cell_type": "code",
   "execution_count": 1,
   "id": "2f5c4ee5",
   "metadata": {},
   "outputs": [
    {
     "name": "stdout",
     "output_type": "stream",
     "text": [
      "Preprocessed dataset saved.\n"
     ]
    }
   ],
   "source": [
    "import numpy as np\n",
    "from sklearn.model_selection import train_test_split\n",
    "from skimage.transform import resize\n",
    "\n",
    "# Load your dataset\n",
    "# Assuming your dataset is stored in 'data.npy' for input images and 'labels.npy' for labels\n",
    "data = np.load('data.npy')\n",
    "labels = np.load('labels.npy')\n",
    "\n",
    "# Resize the images to a consistent shape\n",
    "resized_data = []\n",
    "for image in data:\n",
    "    resized_image = resize(image, (50, 50))  # Adjust the target shape as per your requirements\n",
    "    resized_data.append(resized_image)\n",
    "resized_data = np.array(resized_data)\n",
    "\n",
    "# Split the dataset into training and testing sets\n",
    "X_train, X_test, y_train, y_test = train_test_split(resized_data, labels, test_size=0.2, random_state=42)\n",
    "\n",
    "# Normalize the input images\n",
    "X_train = X_train / 255.0\n",
    "X_test = X_test / 255.0\n",
    "\n",
    "# Save the preprocessed dataset\n",
    "np.save('X_train.npy', X_train)\n",
    "np.save('X_test.npy', X_test)\n",
    "np.save('y_train.npy', y_train)\n",
    "np.save('y_test.npy', y_test)\n",
    "print(\"Preprocessed dataset saved.\")\n"
   ]
  },
  {
   "cell_type": "code",
   "execution_count": null,
   "id": "25d77f17",
   "metadata": {},
   "outputs": [],
   "source": []
  }
 ],
 "metadata": {
  "kernelspec": {
   "display_name": "Python 3 (ipykernel)",
   "language": "python",
   "name": "python3"
  },
  "language_info": {
   "codemirror_mode": {
    "name": "ipython",
    "version": 3
   },
   "file_extension": ".py",
   "mimetype": "text/x-python",
   "name": "python",
   "nbconvert_exporter": "python",
   "pygments_lexer": "ipython3",
   "version": "3.9.13"
  }
 },
 "nbformat": 4,
 "nbformat_minor": 5
}
