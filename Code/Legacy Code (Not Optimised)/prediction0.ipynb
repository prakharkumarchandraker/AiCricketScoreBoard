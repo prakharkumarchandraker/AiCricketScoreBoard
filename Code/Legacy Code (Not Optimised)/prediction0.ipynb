{
 "cells": [
  {
   "cell_type": "code",
   "execution_count": 1,
   "id": "b955cd0b",
   "metadata": {},
   "outputs": [],
   "source": [
    "import os\n",
    "import random\n",
    "from glob import glob\n",
    "\n",
    "import matplotlib.pyplot as plt\n",
    "import numpy as np\n",
    "#pip install split-folders\n",
    "import splitfolders\n",
    "\n",
    "from IPython.display import display\n",
    "from PIL import Image\n",
    "from sklearn.metrics import ConfusionMatrixDisplay, classification_report\n",
    "from sklearn.utils.class_weight import compute_class_weight\n",
    "from tensorflow.keras.applications.densenet import (DenseNet121,\n",
    "                                                    preprocess_input)\n",
    "from tensorflow.keras.callbacks import LearningRateScheduler\n",
    "from tensorflow.keras.layers import (BatchNormalization, Dense,\n",
    "                                     Dropout, Flatten, Input)\n",
    "from tensorflow.keras.metrics import Precision, Recall\n",
    "from tensorflow.keras.models import Sequential\n",
    "from tensorflow.keras.optimizers import Adam\n",
    "from tensorflow.keras.preprocessing.image import ImageDataGenerator"
   ]
  },
  {
   "cell_type": "code",
   "execution_count": 2,
   "id": "5317bdd3",
   "metadata": {},
   "outputs": [],
   "source": [
    "from tensorflow.keras.models import load_model\n",
    "classifier = load_model('densenet121.hdf5')"
   ]
  },
  {
   "cell_type": "code",
   "execution_count": 3,
   "id": "ef7bfff3",
   "metadata": {},
   "outputs": [],
   "source": [
    "def predict(image_path):\n",
    "    from skimage import io\n",
    "    from keras.preprocessing import image\n",
    "    #path='imbalanced/Scratch/Scratch_400.jpg'\n",
    "    import tensorflow as tf\n",
    "\n",
    "    img = tf.keras.utils.load_img(image_path, grayscale=False, target_size=(100, 100))\n",
    "    show_img=tf.keras.utils.load_img(image_path, grayscale=False, target_size=(100, 100))\n",
    "    f_class = ['bye', 'noball', 'oneshort', 'out', 'six', 'timeout']\n",
    "    x = tf.keras.utils.img_to_array(img)\n",
    "    x = np.expand_dims(x, axis = 0)\n",
    "    #x = np.array(x, 'float32')\n",
    "    x /= 255\n",
    "\n",
    "    custom = classifier.predict(x)\n",
    "    print(custom[0])\n",
    "\n",
    "\n",
    "\n",
    "    #x = x.reshape([64, 64]);\n",
    "\n",
    "    #plt.gray()\n",
    "    plt.imshow(show_img)\n",
    "    plt.show()\n",
    "\n",
    "    a=custom[0]\n",
    "    ind=np.argmax(a)\n",
    "\n",
    "    print('Prediction:',f_class[ind])\n"
   ]
  },
  {
   "cell_type": "code",
   "execution_count": 4,
   "id": "38622863",
   "metadata": {},
   "outputs": [],
   "source": [
    "import cv2 \n",
    "import os\n",
    "\n",
    "def video_to_frames(video, path_output_dir):\n",
    "    vidcap = cv2.VideoCapture(video)\n",
    "    count = 721\n",
    "    while vidcap.isOpened():\n",
    "        success, image = vidcap.read()\n",
    "        if success:\n",
    "            cv2.imwrite(os.path.join(path_output_dir, '%d.png') % count, image)\n",
    "            count += 1\n",
    "        else:\n",
    "            break\n",
    "    cv2.destroyAllWindows()\n",
    "    vidcap.release()"
   ]
  },
  {
   "cell_type": "code",
   "execution_count": 5,
   "id": "77fac585",
   "metadata": {},
   "outputs": [],
   "source": [
    "def process_video(vid):\n",
    "    dir_list = os.listdir('input_dir')\n",
    "    print(dir_list)\n",
    "    for i in dir_list:\n",
    "        os.remove('input_dir/'+i)\n",
    "    video_to_frames(vid,'input_dir')\n",
    "    dir_list = os.listdir('input_dir')\n",
    "    print(dir_list)\n",
    "    for i in dir_list:\n",
    "        predict('input_dir/'+i)"
   ]
  },
  {
   "cell_type": "code",
   "execution_count": 7,
   "id": "6a558d4a",
   "metadata": {},
   "outputs": [
    {
     "name": "stdout",
     "output_type": "stream",
     "text": [
      "[]\n",
      "[]\n"
     ]
    }
   ],
   "source": [
    "process_video('a.mp4')\n"
   ]
  },
  {
   "cell_type": "code",
   "execution_count": 8,
   "id": "c3e9d23c",
   "metadata": {},
   "outputs": [
    {
     "name": "stdout",
     "output_type": "stream",
     "text": [
      "[]\n",
      "[]\n"
     ]
    }
   ],
   "source": [
    "process_video('b.mp4')"
   ]
  },
  {
   "cell_type": "code",
   "execution_count": 9,
   "id": "c5c690f5",
   "metadata": {},
   "outputs": [
    {
     "name": "stdout",
     "output_type": "stream",
     "text": [
      "[]\n",
      "[]\n"
     ]
    }
   ],
   "source": [
    "process_video('c.mp4')"
   ]
  },
  {
   "cell_type": "code",
   "execution_count": null,
   "id": "54ba5566",
   "metadata": {},
   "outputs": [],
   "source": []
  },
  {
   "cell_type": "code",
   "execution_count": null,
   "id": "1f6134a2",
   "metadata": {},
   "outputs": [],
   "source": []
  },
  {
   "cell_type": "code",
   "execution_count": null,
   "id": "75a53579",
   "metadata": {},
   "outputs": [],
   "source": []
  },
  {
   "cell_type": "code",
   "execution_count": null,
   "id": "bf205ffa",
   "metadata": {},
   "outputs": [],
   "source": []
  }
 ],
 "metadata": {
  "kernelspec": {
   "display_name": "Python 3 (ipykernel)",
   "language": "python",
   "name": "python3"
  },
  "language_info": {
   "codemirror_mode": {
    "name": "ipython",
    "version": 3
   },
   "file_extension": ".py",
   "mimetype": "text/x-python",
   "name": "python",
   "nbconvert_exporter": "python",
   "pygments_lexer": "ipython3",
   "version": "3.9.13"
  }
 },
 "nbformat": 4,
 "nbformat_minor": 5
}
