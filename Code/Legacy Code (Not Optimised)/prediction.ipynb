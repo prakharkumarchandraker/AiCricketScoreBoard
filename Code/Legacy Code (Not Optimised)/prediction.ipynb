{
 "cells": [
  {
   "cell_type": "code",
   "execution_count": null,
   "id": "090d6348",
   "metadata": {},
   "outputs": [],
   "source": [
    "import os\n",
    "import random\n",
    "from glob import glob\n",
    "\n",
    "import matplotlib.pyplot as plt\n",
    "import numpy as np\n",
    "#pip install split-folders\n",
    "import splitfolders\n",
    "\n",
    "from IPython.display import display\n",
    "from PIL import Image\n",
    "from sklearn.metrics import ConfusionMatrixDisplay, classification_report\n",
    "from sklearn.utils.class_weight import compute_class_weight\n",
    "from tensorflow.keras.applications.densenet import (DenseNet121,\n",
    "                                                    preprocess_input)\n",
    "from tensorflow.keras.callbacks import LearningRateScheduler\n",
    "from tensorflow.keras.layers import (BatchNormalization, Dense,\n",
    "                                     Dropout, Flatten, Input)\n",
    "from tensorflow.keras.metrics import Precision, Recall\n",
    "from tensorflow.keras.models import Sequential\n",
    "from tensorflow.keras.optimizers import Adam\n",
    "from tensorflow.keras.preprocessing.image import ImageDataGenerator"
   ]
  },
  {
   "cell_type": "code",
   "execution_count": null,
   "id": "c58144f6",
   "metadata": {},
   "outputs": [],
   "source": [
    "from tensorflow.keras.models import load_model\n",
    "classifier = load_model('densenet121.hdf5')"
   ]
  },
  {
   "cell_type": "code",
   "execution_count": null,
   "id": "91918a96",
   "metadata": {},
   "outputs": [],
   "source": [
    "def predict(image_path):\n",
    "    from skimage import io\n",
    "    from keras.preprocessing import image\n",
    "    #path='imbalanced/Scratch/Scratch_400.jpg'\n",
    "    import tensorflow as tf\n",
    "\n",
    "    img = tf.keras.utils.load_img(image_path, grayscale=False, target_size=(100, 100))\n",
    "    show_img=tf.keras.utils.load_img(image_path, grayscale=False, target_size=(100, 100))\n",
    "    p_class = ['normal','umpire']\n",
    "    x = tf.keras.utils.img_to_array(img)\n",
    "    x = np.expand_dims(x, axis = 0)\n",
    "    #x = np.array(x, 'float32')\n",
    "    x /= 255\n",
    "\n",
    "    custom = classifier.predict(x)\n",
    "    print(custom[0])\n",
    "\n",
    "\n",
    "\n",
    "    #x = x.reshape([64, 64]);\n",
    "\n",
    "    #plt.gray()\n",
    "    plt.imshow(show_img)\n",
    "    plt.show()\n",
    "\n",
    "    a=custom[0]\n",
    "    ind=np.argmax(a)\n",
    "\n",
    "    print('Prediction:',p_class[ind])\n",
    "    f=open('output.txt','w')\n",
    "    f.write(str(p_class[ind]))\n",
    "    f.close()\n",
    "    return str(p_class[ind])\n"
   ]
  },
  {
   "cell_type": "code",
   "execution_count": null,
   "id": "95d3d958",
   "metadata": {},
   "outputs": [],
   "source": [
    "import cv2\n",
    "import time\n",
    "def capture_image():\n",
    "    \n",
    "\n",
    "    # access the default camera (usually USB webcam)\n",
    "    cap = cv2.VideoCapture(1)\n",
    "    if not cap.isOpened():\n",
    "        print(\"Error: Could not open camera.\")\n",
    "        return 0\n",
    "    else:\n",
    "        ret, frame = cap.read()\n",
    "        cv2.imwrite(\"image.jpg\", frame)\n",
    "        cap.release()\n"
   ]
  },
  {
   "cell_type": "code",
   "execution_count": null,
   "id": "4e692599",
   "metadata": {},
   "outputs": [],
   "source": [
    "capture_image()"
   ]
  },
  {
   "cell_type": "code",
   "execution_count": null,
   "id": "23d46f4b",
   "metadata": {},
   "outputs": [],
   "source": [
    "while True:\n",
    "    capture_image()\n",
    "    filename = 'image.jpg'\n",
    "    result=predict(filename)\n",
    "    print(result)\n",
    "    time.sleep(5)"
   ]
  },
  {
   "cell_type": "code",
   "execution_count": null,
   "id": "2a63473d",
   "metadata": {},
   "outputs": [],
   "source": []
  }
 ],
 "metadata": {
  "kernelspec": {
   "display_name": "Python 3 (ipykernel)",
   "language": "python",
   "name": "python3"
  },
  "language_info": {
   "codemirror_mode": {
    "name": "ipython",
    "version": 3
   },
   "file_extension": ".py",
   "mimetype": "text/x-python",
   "name": "python",
   "nbconvert_exporter": "python",
   "pygments_lexer": "ipython3",
   "version": "3.9.13"
  }
 },
 "nbformat": 4,
 "nbformat_minor": 5
}
