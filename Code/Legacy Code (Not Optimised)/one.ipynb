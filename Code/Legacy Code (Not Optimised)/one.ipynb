{
 "cells": [
  {
   "cell_type": "code",
   "execution_count": 1,
   "id": "cf11d85d",
   "metadata": {},
   "outputs": [
    {
     "name": "stdout",
     "output_type": "stream",
     "text": [
      "Dataset saved as 'data.npy' and 'labels.npy'.\n"
     ]
    }
   ],
   "source": [
    "import os\n",
    "import numpy as np\n",
    "from PIL import Image\n",
    "\n",
    "dataset_path = 'Dataset'  # Update with the path to your dataset directory\n",
    "\n",
    "image_size = (50, 50)  # Update with your desired image size\n",
    "\n",
    "# Get a list of all subdirectories (class labels)\n",
    "labels = os.listdir(dataset_path)\n",
    "\n",
    "data = []\n",
    "class_labels = []\n",
    "\n",
    "# Iterate over each subdirectory\n",
    "for label in labels:\n",
    "    label_path = os.path.join(dataset_path, label)\n",
    "    \n",
    "    # Iterate over each image in the subdirectory\n",
    "    for image_file in os.listdir(label_path):\n",
    "        image_path = os.path.join(label_path, image_file)\n",
    "        \n",
    "        # Open and resize the image\n",
    "        image = Image.open(image_path).resize(image_size)\n",
    "        \n",
    "        # Convert image to numpy array\n",
    "        image_array = np.array(image)\n",
    "        \n",
    "        # Append the image array and corresponding label to the dataset\n",
    "        data.append(image_array)\n",
    "        class_labels.append(label)\n",
    "\n",
    "# Convert the lists to numpy arrays\n",
    "data = np.array(data)\n",
    "class_labels = np.array(class_labels)\n",
    "\n",
    "# Save the dataset and labels\n",
    "np.save('data.npy', data)\n",
    "np.save('labels.npy', class_labels)\n",
    "print(\"Dataset saved as 'data.npy' and 'labels.npy'.\")\n"
   ]
  },
  {
   "cell_type": "code",
   "execution_count": null,
   "id": "02fbea0e",
   "metadata": {},
   "outputs": [],
   "source": []
  }
 ],
 "metadata": {
  "kernelspec": {
   "display_name": "Python 3 (ipykernel)",
   "language": "python",
   "name": "python3"
  },
  "language_info": {
   "codemirror_mode": {
    "name": "ipython",
    "version": 3
   },
   "file_extension": ".py",
   "mimetype": "text/x-python",
   "name": "python",
   "nbconvert_exporter": "python",
   "pygments_lexer": "ipython3",
   "version": "3.9.13"
  }
 },
 "nbformat": 4,
 "nbformat_minor": 5
}
