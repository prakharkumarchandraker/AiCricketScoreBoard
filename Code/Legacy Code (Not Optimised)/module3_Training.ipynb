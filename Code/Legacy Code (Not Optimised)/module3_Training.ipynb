{
 "cells": [
  {
   "cell_type": "code",
   "execution_count": 1,
   "metadata": {},
   "outputs": [],
   "source": [
    "#............................................Training & Testing using deep learning......................................#\n",
    "import os\n",
    "import cv2\n",
    "import time\n",
    "import numpy as np\n",
    "from keras.layers import Conv2D \n",
    "from keras.layers import Dense\n",
    "from keras.layers import Flatten\n",
    "from keras.layers import Dropout\n",
    "from keras.layers import MaxPooling2D\n",
    "from keras.models import Sequential, save_model\n",
    "from keras.utils import np_utils\n",
    "from keras.callbacks import ModelCheckpoint\n",
    "from keras.models import load_model\n",
    "from sklearn.model_selection import train_test_split\n",
    "from sklearn.utils import shuffle\n",
    "from sklearn.metrics import accuracy_score\n",
    "from sklearn.metrics import classification_report, confusion_matrix\n",
    "import warnings\n",
    "warnings.filterwarnings(action = 'ignore')\n",
    "import seaborn as sns\n",
    "import matplotlib.pyplot as plt\n",
    "%matplotlib inline"
   ]
  },
  {
   "cell_type": "code",
   "execution_count": 9,
   "metadata": {},
   "outputs": [],
   "source": [
    "path = 'Preprocessed/'"
   ]
  },
  {
   "cell_type": "code",
   "execution_count": 10,
   "metadata": {},
   "outputs": [],
   "source": [
    "gestures = os.listdir(path)"
   ]
  },
  {
   "cell_type": "code",
   "execution_count": 11,
   "metadata": {},
   "outputs": [
    {
     "data": {
      "text/plain": [
       "['normal', 'umpire']"
      ]
     },
     "execution_count": 11,
     "metadata": {},
     "output_type": "execute_result"
    }
   ],
   "source": [
    "gestures"
   ]
  },
  {
   "cell_type": "code",
   "execution_count": 12,
   "metadata": {},
   "outputs": [],
   "source": [
    "dict_labels = {\n",
    "    'normal': 1,\n",
    "    'umpire': 2\n",
    "    \n",
    "    \n",
    "}"
   ]
  },
  {
   "cell_type": "code",
   "execution_count": 13,
   "metadata": {},
   "outputs": [
    {
     "name": "stdout",
     "output_type": "stream",
     "text": [
      "['normal', 'umpire']\n"
     ]
    }
   ],
   "source": [
    "print(list(dict_labels.keys()))"
   ]
  },
  {
   "cell_type": "code",
   "execution_count": 15,
   "metadata": {},
   "outputs": [],
   "source": [
    "x, y = [], []\n",
    "for ix in gestures:\n",
    "    images = os.listdir(path + ix)\n",
    "    for cx in images:\n",
    "        img_path = path + ix + '/' + cx\n",
    "        img = cv2.imread(img_path, 0)\n",
    "        img = img.reshape((50,50,1))\n",
    "        img = img/255.0\n",
    "        x.append(img)\n",
    "        y.append(dict_labels[ix])"
   ]
  },
  {
   "cell_type": "code",
   "execution_count": 16,
   "metadata": {},
   "outputs": [
    {
     "name": "stdout",
     "output_type": "stream",
     "text": [
      "[1 1 1 ... 2 2 2]\n",
      "[[0. 1. 0.]\n",
      " [0. 1. 0.]\n",
      " [0. 1. 0.]\n",
      " ...\n",
      " [0. 0. 1.]\n",
      " [0. 0. 1.]\n",
      " [0. 0. 1.]]\n",
      "<class 'numpy.ndarray'> 5196\n"
     ]
    },
    {
     "data": {
      "text/plain": [
       "(5196, 3)"
      ]
     },
     "execution_count": 16,
     "metadata": {},
     "output_type": "execute_result"
    }
   ],
   "source": [
    "X = np.array(x)\n",
    "Y = np.array(y)\n",
    "print(Y)\n",
    "Y = np_utils.to_categorical(Y)\n",
    "print(Y)\n",
    "print(type(Y),len(Y))\n",
    "Y.shape"
   ]
  },
  {
   "cell_type": "code",
   "execution_count": 17,
   "metadata": {},
   "outputs": [
    {
     "data": {
      "text/plain": [
       "array([[0., 1., 0.],\n",
       "       [0., 1., 0.],\n",
       "       [0., 1., 0.],\n",
       "       ...,\n",
       "       [0., 0., 1.],\n",
       "       [0., 0., 1.],\n",
       "       [0., 0., 1.]], dtype=float32)"
      ]
     },
     "execution_count": 17,
     "metadata": {},
     "output_type": "execute_result"
    }
   ],
   "source": [
    "Y"
   ]
  },
  {
   "cell_type": "code",
   "execution_count": 18,
   "metadata": {},
   "outputs": [
    {
     "data": {
      "text/plain": [
       "<AxesSubplot:ylabel='count'>"
      ]
     },
     "execution_count": 18,
     "metadata": {},
     "output_type": "execute_result"
    },
    {
     "data": {
      "image/png": "[encoded data removed]",
      "text/plain": [
       "<Figure size 1800x800 with 1 Axes>"
      ]
     },
     "metadata": {},
     "output_type": "display_data"
    }
   ],
   "source": [
    "plt.figure(figsize = (18,8))\n",
    "sns.countplot(x=list(dict_labels.keys()))"
   ]
  },
  {
   "cell_type": "code",
   "execution_count": 19,
   "metadata": {},
   "outputs": [
    {
     "data": {
      "text/plain": [
       "(5196, 3)"
      ]
     },
     "execution_count": 19,
     "metadata": {},
     "output_type": "execute_result"
    }
   ],
   "source": [
    "Y.shape"
   ]
  },
  {
   "cell_type": "code",
   "execution_count": 20,
   "metadata": {},
   "outputs": [],
   "source": [
    "categories = Y.shape[1]"
   ]
  },
  {
   "cell_type": "code",
   "execution_count": 21,
   "metadata": {},
   "outputs": [],
   "source": [
    "X, Y = shuffle(X, Y, random_state=0)"
   ]
  },
  {
   "cell_type": "code",
   "execution_count": 22,
   "metadata": {},
   "outputs": [
    {
     "data": {
      "text/plain": [
       "(5196, 50, 50, 1)"
      ]
     },
     "execution_count": 22,
     "metadata": {},
     "output_type": "execute_result"
    }
   ],
   "source": [
    "X.shape"
   ]
  },
  {
   "cell_type": "code",
   "execution_count": 23,
   "metadata": {},
   "outputs": [],
   "source": [
    "X_train, X_test, Y_train, Y_test = train_test_split(X, Y, test_size=0.3)"
   ]
  },
  {
   "cell_type": "code",
   "execution_count": 24,
   "metadata": {},
   "outputs": [
    {
     "name": "stdout",
     "output_type": "stream",
     "text": [
      "(3637, 50, 50, 1) (1559, 50, 50, 1)\n",
      "(3637, 3) (1559, 3)\n"
     ]
    }
   ],
   "source": [
    "print(X_train.shape, X_test.shape)\n",
    "print(Y_train.shape, Y_test.shape)"
   ]
  },
  {
   "cell_type": "code",
   "execution_count": 25,
   "metadata": {},
   "outputs": [
    {
     "name": "stdout",
     "output_type": "stream",
     "text": [
      "Model: \"sequential\"\n",
      "_________________________________________________________________\n",
      " Layer (type)                Output Shape              Param #   \n",
      "=================================================================\n",
      " conv2d (Conv2D)             (None, 48, 48, 64)        640       \n",
      "                                                                 \n",
      " max_pooling2d (MaxPooling2D  (None, 24, 24, 64)       0         \n",
      " )                                                               \n",
      "                                                                 \n",
      " conv2d_1 (Conv2D)           (None, 22, 22, 64)        36928     \n",
      "                                                                 \n",
      " max_pooling2d_1 (MaxPooling  (None, 11, 11, 64)       0         \n",
      " 2D)                                                             \n",
      "                                                                 \n",
      " conv2d_2 (Conv2D)           (None, 9, 9, 64)          36928     \n",
      "                                                                 \n",
      " max_pooling2d_2 (MaxPooling  (None, 4, 4, 64)         0         \n",
      " 2D)                                                             \n",
      "                                                                 \n",
      " flatten (Flatten)           (None, 1024)              0         \n",
      "                                                                 \n",
      " dense (Dense)               (None, 128)               131200    \n",
      "                                                                 \n",
      " dropout (Dropout)           (None, 128)               0         \n",
      "                                                                 \n",
      " dense_1 (Dense)             (None, 3)                 387       \n",
      "                                                                 \n",
      "=================================================================\n",
      "Total params: 206,083\n",
      "Trainable params: 206,083\n",
      "Non-trainable params: 0\n",
      "_________________________________________________________________\n"
     ]
    }
   ],
   "source": [
    "model = Sequential()\n",
    "model.add(Conv2D(64, kernel_size=(3,3), activation = 'relu', input_shape=(50,50 ,1) ))\n",
    "model.add(MaxPooling2D(pool_size = (2, 2)))\n",
    "\n",
    "model.add(Conv2D(64, kernel_size = (3, 3), activation = 'relu'))\n",
    "model.add(MaxPooling2D(pool_size = (2, 2)))\n",
    "\n",
    "model.add(Conv2D(64, kernel_size = (3, 3), activation = 'relu'))\n",
    "model.add(MaxPooling2D(pool_size = (2, 2)))\n",
    "\n",
    "model.add(Flatten())\n",
    "model.add(Dense(128, activation = 'relu'))\n",
    "model.add(Dropout(0.20))\n",
    "model.add(Dense(categories, activation = 'softmax'))\n",
    "\n",
    "model.summary()"
   ]
  },
  {
   "cell_type": "code",
   "execution_count": 26,
   "metadata": {},
   "outputs": [],
   "source": [
    "model.compile(optimizer='Adam', metrics=['accuracy'], loss='categorical_crossentropy')"
   ]
  },
  {
   "cell_type": "code",
   "execution_count": 27,
   "metadata": {
    "scrolled": false
   },
   "outputs": [
    {
     "name": "stdout",
     "output_type": "stream",
     "text": [
      "Epoch 1/50\n",
      "29/29 [==============================] - 5s 132ms/step - loss: 0.1711 - accuracy: 0.9379 - val_loss: 2.7316e-06 - val_accuracy: 1.0000\n",
      "Epoch 2/50\n",
      "29/29 [==============================] - 4s 131ms/step - loss: 8.2718e-05 - accuracy: 1.0000 - val_loss: 2.0645e-07 - val_accuracy: 1.0000\n",
      "Epoch 3/50\n",
      "29/29 [==============================] - 4s 128ms/step - loss: 2.6869e-06 - accuracy: 1.0000 - val_loss: 9.4052e-08 - val_accuracy: 1.0000\n",
      "Epoch 4/50\n",
      "29/29 [==============================] - 4s 129ms/step - loss: 1.3834e-06 - accuracy: 1.0000 - val_loss: 5.5972e-08 - val_accuracy: 1.0000\n",
      "Epoch 5/50\n",
      "29/29 [==============================] - 4s 130ms/step - loss: 4.3711e-06 - accuracy: 1.0000 - val_loss: 2.2481e-08 - val_accuracy: 1.0000\n",
      "Epoch 6/50\n",
      "29/29 [==============================] - 4s 132ms/step - loss: 4.0216e-06 - accuracy: 1.0000 - val_loss: 2.7680e-08 - val_accuracy: 1.0000\n",
      "Epoch 7/50\n",
      "29/29 [==============================] - 4s 132ms/step - loss: 6.6700e-07 - accuracy: 1.0000 - val_loss: 3.7391e-08 - val_accuracy: 1.0000\n",
      "Epoch 8/50\n",
      "29/29 [==============================] - 4s 134ms/step - loss: 1.3310e-06 - accuracy: 1.0000 - val_loss: 2.2404e-08 - val_accuracy: 1.0000\n",
      "Epoch 9/50\n",
      "29/29 [==============================] - 4s 136ms/step - loss: 6.5439e-07 - accuracy: 1.0000 - val_loss: 2.1181e-08 - val_accuracy: 1.0000\n",
      "Epoch 10/50\n",
      "29/29 [==============================] - 4s 135ms/step - loss: 4.1943e-07 - accuracy: 1.0000 - val_loss: 2.0110e-08 - val_accuracy: 1.0000\n",
      "Epoch 11/50\n",
      "29/29 [==============================] - 4s 134ms/step - loss: 7.3135e-07 - accuracy: 1.0000 - val_loss: 1.8734e-08 - val_accuracy: 1.0000\n",
      "Epoch 12/50\n",
      "29/29 [==============================] - 4s 132ms/step - loss: 3.9229e-07 - accuracy: 1.0000 - val_loss: 1.7969e-08 - val_accuracy: 1.0000\n",
      "Epoch 13/50\n",
      "29/29 [==============================] - 4s 133ms/step - loss: 5.2584e-07 - accuracy: 1.0000 - val_loss: 1.6669e-08 - val_accuracy: 1.0000\n",
      "Epoch 14/50\n",
      "29/29 [==============================] - 4s 135ms/step - loss: 2.5175e-07 - accuracy: 1.0000 - val_loss: 1.6669e-08 - val_accuracy: 1.0000\n",
      "Epoch 15/50\n",
      "29/29 [==============================] - 4s 133ms/step - loss: 2.2645e-07 - accuracy: 1.0000 - val_loss: 1.6669e-08 - val_accuracy: 1.0000\n",
      "Epoch 16/50\n",
      "29/29 [==============================] - 4s 133ms/step - loss: 3.9017e-07 - accuracy: 1.0000 - val_loss: 1.6211e-08 - val_accuracy: 1.0000\n",
      "Epoch 17/50\n",
      "29/29 [==============================] - 4s 134ms/step - loss: 1.4113e-06 - accuracy: 1.0000 - val_loss: 2.2787e-08 - val_accuracy: 1.0000\n",
      "Epoch 18/50\n",
      "29/29 [==============================] - 4s 133ms/step - loss: 4.6382e-07 - accuracy: 1.0000 - val_loss: 1.9728e-08 - val_accuracy: 1.0000\n",
      "Epoch 19/50\n",
      "29/29 [==============================] - 4s 134ms/step - loss: 2.7049e-07 - accuracy: 1.0000 - val_loss: 1.7587e-08 - val_accuracy: 1.0000\n",
      "Epoch 20/50\n",
      "29/29 [==============================] - 4s 135ms/step - loss: 2.9396e-07 - accuracy: 1.0000 - val_loss: 1.6134e-08 - val_accuracy: 1.0000\n",
      "Epoch 21/50\n",
      "29/29 [==============================] - 4s 134ms/step - loss: 2.6819e-07 - accuracy: 1.0000 - val_loss: 1.5064e-08 - val_accuracy: 1.0000\n",
      "Epoch 22/50\n",
      "29/29 [==============================] - 4s 134ms/step - loss: 4.5626e-07 - accuracy: 1.0000 - val_loss: 1.3917e-08 - val_accuracy: 1.0000\n",
      "Epoch 23/50\n",
      "29/29 [==============================] - 4s 137ms/step - loss: 1.8430e-07 - accuracy: 1.0000 - val_loss: 1.3228e-08 - val_accuracy: 1.0000\n",
      "Epoch 24/50\n",
      "29/29 [==============================] - 4s 137ms/step - loss: 3.4971e-07 - accuracy: 1.0000 - val_loss: 1.2770e-08 - val_accuracy: 1.0000\n",
      "Epoch 25/50\n",
      "29/29 [==============================] - 4s 137ms/step - loss: 1.8695e-07 - accuracy: 1.0000 - val_loss: 1.2387e-08 - val_accuracy: 1.0000\n",
      "Epoch 26/50\n",
      "29/29 [==============================] - 4s 138ms/step - loss: 9.8665e-07 - accuracy: 1.0000 - val_loss: 2.1410e-08 - val_accuracy: 1.0000\n",
      "Epoch 27/50\n",
      "29/29 [==============================] - 4s 138ms/step - loss: 8.0913e-07 - accuracy: 1.0000 - val_loss: 1.1623e-08 - val_accuracy: 1.0000\n",
      "Epoch 28/50\n",
      "29/29 [==============================] - 4s 137ms/step - loss: 5.3212e-07 - accuracy: 1.0000 - val_loss: 1.0782e-08 - val_accuracy: 1.0000\n",
      "Epoch 29/50\n",
      "29/29 [==============================] - 4s 140ms/step - loss: 1.7735e-07 - accuracy: 1.0000 - val_loss: 1.1164e-08 - val_accuracy: 1.0000\n",
      "Epoch 30/50\n",
      "29/29 [==============================] - 4s 137ms/step - loss: 1.0567e-07 - accuracy: 1.0000 - val_loss: 1.1546e-08 - val_accuracy: 1.0000\n",
      "Epoch 31/50\n",
      "29/29 [==============================] - 4s 139ms/step - loss: 1.6591e-07 - accuracy: 1.0000 - val_loss: 1.1393e-08 - val_accuracy: 1.0000\n",
      "Epoch 32/50\n",
      "29/29 [==============================] - 4s 141ms/step - loss: 1.8046e-07 - accuracy: 1.0000 - val_loss: 1.1623e-08 - val_accuracy: 1.0000\n",
      "Epoch 33/50\n",
      "29/29 [==============================] - 4s 138ms/step - loss: 1.6821e-07 - accuracy: 1.0000 - val_loss: 1.1164e-08 - val_accuracy: 1.0000\n",
      "Epoch 34/50\n",
      "29/29 [==============================] - 4s 138ms/step - loss: 1.7433e-07 - accuracy: 1.0000 - val_loss: 1.0858e-08 - val_accuracy: 1.0000\n",
      "Epoch 35/50\n",
      "29/29 [==============================] - 4s 137ms/step - loss: 1.3248e-07 - accuracy: 1.0000 - val_loss: 1.1011e-08 - val_accuracy: 1.0000\n",
      "Epoch 36/50\n",
      "29/29 [==============================] - 4s 138ms/step - loss: 1.2937e-07 - accuracy: 1.0000 - val_loss: 1.0858e-08 - val_accuracy: 1.0000\n",
      "Epoch 37/50\n",
      "29/29 [==============================] - 4s 137ms/step - loss: 0.0033 - accuracy: 0.9986 - val_loss: 0.0407 - val_accuracy: 0.9865\n",
      "Epoch 38/50\n",
      "29/29 [==============================] - 4s 139ms/step - loss: 0.0593 - accuracy: 0.9893 - val_loss: 1.3909e-05 - val_accuracy: 1.0000\n",
      "Epoch 39/50\n",
      "29/29 [==============================] - 4s 138ms/step - loss: 6.5088e-05 - accuracy: 1.0000 - val_loss: 1.6545e-05 - val_accuracy: 1.0000\n",
      "Epoch 40/50\n",
      "29/29 [==============================] - 4s 135ms/step - loss: 6.2741e-05 - accuracy: 1.0000 - val_loss: 3.8552e-06 - val_accuracy: 1.0000\n",
      "Epoch 41/50\n",
      "29/29 [==============================] - 4s 138ms/step - loss: 1.7217e-05 - accuracy: 1.0000 - val_loss: 2.6093e-06 - val_accuracy: 1.0000\n",
      "Epoch 42/50\n",
      "29/29 [==============================] - 4s 138ms/step - loss: 1.4991e-05 - accuracy: 1.0000 - val_loss: 1.7011e-06 - val_accuracy: 1.0000\n",
      "Epoch 43/50\n",
      "29/29 [==============================] - 4s 135ms/step - loss: 6.2069e-06 - accuracy: 1.0000 - val_loss: 1.3698e-06 - val_accuracy: 1.0000\n",
      "Epoch 44/50\n",
      "29/29 [==============================] - 4s 136ms/step - loss: 5.0646e-06 - accuracy: 1.0000 - val_loss: 1.1934e-06 - val_accuracy: 1.0000\n",
      "Epoch 45/50\n",
      "29/29 [==============================] - 4s 137ms/step - loss: 6.3558e-06 - accuracy: 1.0000 - val_loss: 1.0173e-06 - val_accuracy: 1.0000\n",
      "Epoch 46/50\n",
      "29/29 [==============================] - 4s 136ms/step - loss: 2.9937e-06 - accuracy: 1.0000 - val_loss: 9.1290e-07 - val_accuracy: 1.0000\n",
      "Epoch 47/50\n",
      "29/29 [==============================] - 4s 137ms/step - loss: 7.0140e-06 - accuracy: 1.0000 - val_loss: 8.1740e-07 - val_accuracy: 1.0000\n",
      "Epoch 48/50\n",
      "29/29 [==============================] - 4s 136ms/step - loss: 4.5558e-06 - accuracy: 1.0000 - val_loss: 6.8894e-07 - val_accuracy: 1.0000\n",
      "Epoch 49/50\n",
      "29/29 [==============================] - 4s 136ms/step - loss: 5.2538e-06 - accuracy: 1.0000 - val_loss: 6.0873e-07 - val_accuracy: 1.0000\n",
      "Epoch 50/50\n",
      "29/29 [==============================] - 4s 137ms/step - loss: 2.5541e-06 - accuracy: 1.0000 - val_loss: 5.3793e-07 - val_accuracy: 1.0000\n"
     ]
    }
   ],
   "source": [
    "history = model.fit(X_train, Y_train, batch_size=128, epochs=50, validation_data=[X_test, Y_test])"
   ]
  },
  {
   "cell_type": "code",
   "execution_count": 28,
   "metadata": {},
   "outputs": [
    {
     "data": {
      "image/png": "[encoded data removed]",
      "text/plain": [
       "<Figure size 640x480 with 1 Axes>"
      ]
     },
     "metadata": {},
     "output_type": "display_data"
    }
   ],
   "source": [
    "plt.plot(history.history['accuracy'])\n",
    "plt.plot(history.history['val_accuracy'])\n",
    "plt.title(\"Accuracy\")\n",
    "plt.xlabel('epoch')\n",
    "plt.ylabel('accuracy')\n",
    "plt.legend(['train','test'])\n",
    "plt.show()"
   ]
  },
  {
   "cell_type": "code",
   "execution_count": 29,
   "metadata": {},
   "outputs": [],
   "source": [
    "model.save('CNN_modelu.h5')"
   ]
  },
  {
   "cell_type": "code",
   "execution_count": 30,
   "metadata": {},
   "outputs": [],
   "source": [
    "m = load_model('CNN_modelu.h5')"
   ]
  },
  {
   "cell_type": "code",
   "execution_count": 37,
   "metadata": {},
   "outputs": [],
   "source": [
    "test_data = os.listdir('Test/')"
   ]
  },
  {
   "cell_type": "code",
   "execution_count": 38,
   "metadata": {},
   "outputs": [
    {
     "data": {
      "text/plain": [
       "{'normal': 1, 'umpire': 2}"
      ]
     },
     "execution_count": 38,
     "metadata": {},
     "output_type": "execute_result"
    }
   ],
   "source": [
    "dict_labels"
   ]
  },
  {
   "cell_type": "code",
   "execution_count": 48,
   "metadata": {},
   "outputs": [
    {
     "name": "stdout",
     "output_type": "stream",
     "text": [
      "normal\n",
      "umpire\n"
     ]
    }
   ],
   "source": [
    "for ix in test_data:\n",
    "    print(ix)"
   ]
  },
  {
   "cell_type": "code",
   "execution_count": 50,
   "metadata": {},
   "outputs": [
    {
     "name": "stdout",
     "output_type": "stream",
     "text": [
      "images ['2023-04-06 12-08-29.240.jpg', '2023-04-06 12-08-29.450.jpg', '2023-04-06 12-08-29.507.jpg', '2023-04-06 12-08-29.509.jpg', '2023-04-06 12-08-29.547.jpg', '2023-04-06 12-08-29.613.jpg', '2023-04-06 12-08-29.675.jpg', '2023-04-06 12-08-29.688.jpg', '2023-04-06 12-08-29.772.jpg', '2023-04-06 12-08-29.905.jpg', '2023-04-06 12-08-29.979.jpg', '2023-04-06 12-08-30.007.jpg']\n",
      "Test/normal/2023-04-06 12-08-29.240.jpg\n",
      "Test/normal/2023-04-06 12-08-29.450.jpg\n",
      "Test/normal/2023-04-06 12-08-29.507.jpg\n",
      "Test/normal/2023-04-06 12-08-29.509.jpg\n",
      "Test/normal/2023-04-06 12-08-29.547.jpg\n",
      "Test/normal/2023-04-06 12-08-29.613.jpg\n",
      "Test/normal/2023-04-06 12-08-29.675.jpg\n",
      "Test/normal/2023-04-06 12-08-29.688.jpg\n",
      "Test/normal/2023-04-06 12-08-29.772.jpg\n",
      "Test/normal/2023-04-06 12-08-29.905.jpg\n",
      "Test/normal/2023-04-06 12-08-29.979.jpg\n",
      "Test/normal/2023-04-06 12-08-30.007.jpg\n",
      "images ['2023-04-06 11-38-08.679.jpg', '2023-04-06 11-38-08.898.jpg', '2023-04-06 11-38-09.109.jpg', '2023-04-06 11-38-09.163.jpg', '2023-04-06 11-38-09.164.jpg', '2023-04-06 11-38-09.224.jpg', '2023-04-06 11-38-09.505.jpg', '2023-04-06 11-38-09.566.jpg', '2023-04-06 11-38-09.597.jpg', '2023-04-06 11-38-09.603.jpg', '2023-04-06 11-38-09.920.jpg', '2023-04-06 11-38-09.996.jpg']\n",
      "Test/umpire/2023-04-06 11-38-08.679.jpg\n",
      "Test/umpire/2023-04-06 11-38-08.898.jpg\n",
      "Test/umpire/2023-04-06 11-38-09.109.jpg\n",
      "Test/umpire/2023-04-06 11-38-09.163.jpg\n",
      "Test/umpire/2023-04-06 11-38-09.164.jpg\n",
      "Test/umpire/2023-04-06 11-38-09.224.jpg\n",
      "Test/umpire/2023-04-06 11-38-09.505.jpg\n",
      "Test/umpire/2023-04-06 11-38-09.566.jpg\n",
      "Test/umpire/2023-04-06 11-38-09.597.jpg\n",
      "Test/umpire/2023-04-06 11-38-09.603.jpg\n",
      "Test/umpire/2023-04-06 11-38-09.920.jpg\n",
      "Test/umpire/2023-04-06 11-38-09.996.jpg\n"
     ]
    }
   ],
   "source": [
    "x, y = [], []\n",
    "for ix in test_data:\n",
    "    images = os.listdir('Test/' + ix)\n",
    "    print('images',images)\n",
    "    for cx in images:\n",
    "        img_path = 'Test/' + ix + '/' + str(cx) \n",
    "        print(img_path)\n",
    "        img = cv2.imread(img_path, 0)\n",
    "        img = img.reshape((50,50,1))\n",
    "        img = img/255.0\n",
    "        x.append(img)\n",
    "        y.append(dict_labels[ix])"
   ]
  },
  {
   "cell_type": "code",
   "execution_count": 51,
   "metadata": {},
   "outputs": [],
   "source": [
    "X_t = np.array(x)\n",
    "y_t = np.array(y)\n",
    "Y_t = np_utils.to_categorical(y_t)"
   ]
  },
  {
   "cell_type": "code",
   "execution_count": 52,
   "metadata": {},
   "outputs": [
    {
     "data": {
      "text/plain": [
       "(24, 50, 50, 1)"
      ]
     },
     "execution_count": 52,
     "metadata": {},
     "output_type": "execute_result"
    }
   ],
   "source": [
    "X_t.shape"
   ]
  },
  {
   "cell_type": "code",
   "execution_count": 53,
   "metadata": {},
   "outputs": [
    {
     "name": "stdout",
     "output_type": "stream",
     "text": [
      "1/1 [==============================] - 0s 94ms/step\n"
     ]
    }
   ],
   "source": [
    "y_pred = m.predict(X_t)"
   ]
  },
  {
   "cell_type": "code",
   "execution_count": 54,
   "metadata": {},
   "outputs": [
    {
     "name": "stdout",
     "output_type": "stream",
     "text": [
      "Accuracy: 1.0\n"
     ]
    }
   ],
   "source": [
    "acc = accuracy_score(Y_t, y_pred.round())\n",
    "print('Accuracy:', acc)"
   ]
  },
  {
   "cell_type": "code",
   "execution_count": 55,
   "metadata": {},
   "outputs": [
    {
     "name": "stdout",
     "output_type": "stream",
     "text": [
      "              precision    recall  f1-score   support\n",
      "\n",
      "           0       0.00      0.00      0.00         0\n",
      "           1       1.00      1.00      1.00        12\n",
      "           2       1.00      1.00      1.00        12\n",
      "\n",
      "   micro avg       1.00      1.00      1.00        24\n",
      "   macro avg       0.67      0.67      0.67        24\n",
      "weighted avg       1.00      1.00      1.00        24\n",
      " samples avg       1.00      1.00      1.00        24\n",
      "\n"
     ]
    }
   ],
   "source": [
    "print(classification_report(y_pred.round(), Y_t))"
   ]
  },
  {
   "cell_type": "code",
   "execution_count": null,
   "metadata": {},
   "outputs": [],
   "source": []
  },
  {
   "cell_type": "code",
   "execution_count": null,
   "metadata": {},
   "outputs": [],
   "source": []
  },
  {
   "cell_type": "code",
   "execution_count": null,
   "metadata": {},
   "outputs": [],
   "source": []
  }
 ],
 "metadata": {
  "kernelspec": {
   "display_name": "Python 3 (ipykernel)",
   "language": "python",
   "name": "python3"
  },
  "language_info": {
   "codemirror_mode": {
    "name": "ipython",
    "version": 3
   },
   "file_extension": ".py",
   "mimetype": "text/x-python",
   "name": "python",
   "nbconvert_exporter": "python",
   "pygments_lexer": "ipython3",
   "version": "3.9.13"
  }
 },
 "nbformat": 4,
 "nbformat_minor": 2
}
