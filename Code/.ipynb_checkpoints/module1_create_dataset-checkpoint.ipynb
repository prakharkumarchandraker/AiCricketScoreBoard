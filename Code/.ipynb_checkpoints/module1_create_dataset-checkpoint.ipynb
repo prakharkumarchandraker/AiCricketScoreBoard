{
 "cells": [
  {
   "cell_type": "code",
   "execution_count": 1,
   "metadata": {},
   "outputs": [
    {
     "data": {
      "text/plain": [
       "-1"
      ]
     },
     "execution_count": 1,
     "metadata": {},
     "output_type": "execute_result"
    }
   ],
   "source": [
    "#............................................Automatic Capture the images...............................................# \n",
    "import os\n",
    "\"\"\"\"The OS module in Python is a part of the standard library of the programming language.\n",
    "When imported, it lets the user interact with the native OS Python is currently running on. \n",
    "In simple terms,it provides an easy way for the user to interact with several os functions that come \n",
    "in handy in day to day programming\"\"\"\n",
    "import time\n",
    "\"\"\"\"the Python time module provides many ways of representing time in code, such as objects, numbers, and strings.\n",
    "It also provides functionality other than representing time, \n",
    "like waiting during code execution and measuring the efficiency of your code.\"\"\"\n",
    "import cv2\n",
    "\"\"\"cv2 is the module import name for opencv-python, \"Unofficial pre-built CPU-only OpenCV packages for Python\" \"\"\"\n",
    "import numpy as np\n",
    "\"\"\"The import numpy portion of the code tells Python to bring the NumPy library into your current environment. \n",
    "The as np portion of the code then tells Python to give NumPy the alias of np.\n",
    "This allows you to use NumPy functions by simply typing np\"\"\"\n",
    "\n",
    "vc = cv2.VideoCapture(0)\n",
    "#To capture a video, we need to create a VideoCapture object.\n",
    "#A device index is just the number to specify which camera.\n",
    "#A device index is just the number to specify which camera,Normally one camera will be connected 0 is passed here.\n",
    "#Second camera can be selected by passing 1 and so on.\n",
    "pic_no = 0\n",
    "#We initially declare pictures captured as 0.\n",
    "total_pic = 1000\n",
    "#This specifies how many pictures to click, can be as per convenience.\n",
    "flag_capturing = False\n",
    "#Initially we set capturing as false because a key is pressed to start the capturing.\n",
    "path = 'Dataset/noball'\n",
    "#Here we need to set a path where the pictures captured will be stored.\n",
    "#Path need to be manually created.\n",
    "\n",
    "while(vc.isOpened()):\n",
    "    #If the Camera is Opened\n",
    "    rval, frame = vc.read()\n",
    "    frame = cv2.flip(frame, 1)\n",
    "    cv2.rectangle(frame, (300,300), (100,100), (0,255,0),0)\n",
    "    #cv2.rectangle(frame, (600,300), (300,65), (0,255,0),0)\n",
    "    \n",
    "    cv2.imshow(\"image\", frame)\n",
    "    \n",
    "    crop_img = frame[100:300, 100:300]\n",
    "    #crop_img = frame[300:600, 65:300]\n",
    " \n",
    "    \n",
    "    if flag_capturing:\n",
    "        \n",
    "        pic_no += 1\n",
    "        save_img = cv2.resize( crop_img, (50,50) )\n",
    "        save_img = np.array(save_img)\n",
    "        cv2.imwrite(path + \"/\" + str(pic_no) + \".jpg\", save_img)\n",
    "        \n",
    "    \n",
    "    keypress = cv2.waitKey(1)\n",
    "    \n",
    "    if pic_no == total_pic:\n",
    "        flag_capturing = False\n",
    "        break\n",
    "    \n",
    "    if keypress == ord('q'):\n",
    "        break\n",
    "    elif keypress == ord('c'):\n",
    "        flag_capturing = True\n",
    "\n",
    "vc.release()\n",
    "cv2.destroyAllWindows()\n",
    "cv2.waitKey(1)\n",
    "\n"
   ]
  },
  {
   "cell_type": "code",
   "execution_count": null,
   "metadata": {},
   "outputs": [],
   "source": []
  },
  {
   "cell_type": "code",
   "execution_count": null,
   "metadata": {},
   "outputs": [],
   "source": []
  },
  {
   "cell_type": "code",
   "execution_count": null,
   "metadata": {},
   "outputs": [],
   "source": []
  }
 ],
 "metadata": {
  "kernelspec": {
   "display_name": "Python 3 (ipykernel)",
   "language": "python",
   "name": "python3"
  },
  "language_info": {
   "codemirror_mode": {
    "name": "ipython",
    "version": 3
   },
   "file_extension": ".py",
   "mimetype": "text/x-python",
   "name": "python",
   "nbconvert_exporter": "python",
   "pygments_lexer": "ipython3",
   "version": "3.9.13"
  }
 },
 "nbformat": 4,
 "nbformat_minor": 2
}
