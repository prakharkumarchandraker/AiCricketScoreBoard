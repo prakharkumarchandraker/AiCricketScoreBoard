{
 "cells": [
  {
   "cell_type": "code",
   "execution_count": null,
   "id": "f8c2ec3b",
   "metadata": {},
   "outputs": [],
   "source": [
    "import os\n",
    "import random\n",
    "from glob import glob\n",
    "\n",
    "import matplotlib.pyplot as plt\n",
    "import numpy as np\n",
    "#pip install split-folders\n",
    "import splitfolders\n",
    "\n",
    "from IPython.display import display\n",
    "from PIL import Image\n",
    "from sklearn.metrics import ConfusionMatrixDisplay, classification_report\n",
    "from sklearn.utils.class_weight import compute_class_weight\n",
    "from tensorflow.keras.applications.densenet import (DenseNet121,\n",
    "                                                    preprocess_input)\n",
    "from tensorflow.keras.callbacks import LearningRateScheduler\n",
    "from tensorflow.keras.layers import (BatchNormalization, Dense,\n",
    "                                     Dropout, Flatten, Input)\n",
    "from tensorflow.keras.metrics import Precision, Recall\n",
    "from tensorflow.keras.models import Sequential\n",
    "from tensorflow.keras.optimizers import Adam\n",
    "from tensorflow.keras.preprocessing.image import ImageDataGenerator"
   ]
  },
  {
   "cell_type": "code",
   "execution_count": null,
   "id": "c568767f",
   "metadata": {},
   "outputs": [],
   "source": [
    "data_dir = 'dataset'\n",
    "train_dir = data_dir + '/train'\n",
    "valid_dir = data_dir + '/valid'\n",
    "test_dir = data_dir + '/test'\n",
    "\n",
    "\n",
    "DATASET_PATH = 'dataset/train/'\n",
    "dir_list = os.listdir(DATASET_PATH)\n",
    "print(dir_list)"
   ]
  },
  {
   "cell_type": "code",
   "execution_count": null,
   "id": "f0e4c3ea",
   "metadata": {},
   "outputs": [],
   "source": [
    "num_of_images = []\n",
    "for root, dirs, files in os.walk(DATASET_PATH):\n",
    "    if root == DATASET_PATH: continue\n",
    "    print('{}: {}'.format(os.path.basename(root), len(files)))\n",
    "    num_of_images.append(len(files))"
   ]
  },
  {
   "cell_type": "code",
   "execution_count": null,
   "id": "1e60f7b6",
   "metadata": {},
   "outputs": [],
   "source": [
    "SEED = 123\n",
    "random.seed(SEED)\n",
    "rand_img = Image.open(random.choice(glob(DATASET_PATH + '/**/*')))\n",
    "\n",
    "print('path:', rand_img.filename)\n",
    "print('size:', rand_img.size)\n",
    "print('mode:', rand_img.mode)\n",
    "print('format:', rand_img.format)\n",
    "display(rand_img)"
   ]
  },
  {
   "cell_type": "code",
   "execution_count": null,
   "id": "a09b2b9f",
   "metadata": {},
   "outputs": [],
   "source": [
    "# Plot the number of images per subdirectory\n",
    "x_coord = np.arange(len(dir_list))\n",
    "colors = ['#f4b183', '#9dc3e6', '#a9d18e', '#ffd966']\n",
    "\n",
    "fig, ax = plt.subplots(facecolor='white', figsize=(6,6))\n",
    "ax.bar(x_coord, num_of_images, color=colors)\n",
    "\n",
    "ax.spines['top'].set_visible(False)\n",
    "ax.spines['right'].set_visible(False)\n",
    "ax.spines['left'].set_visible(False)\n",
    "ax.spines['bottom'].set_color('#EEEEEE')\n",
    "\n",
    "ax.yaxis.grid(True, color='#EEEEEE')\n",
    "ax.set_axisbelow(True)\n",
    "\n",
    "plt.xticks(x_coord, dir_list)\n",
    "ax.tick_params(bottom=False, left=False)\n",
    "\n",
    "plt.title('Number of Umpire Images Per Category', fontweight='bold')\n",
    "plt.ylabel('Number of Umpire Images')\n",
    "\n",
    "for i in range(len(x_coord)):\n",
    "    plt.text(i, num_of_images[i], num_of_images[i], ha='center')\n",
    "\n",
    "plt.tight_layout()\n",
    "plt.savefig('bar_chart.png', dpi=200)\n",
    "plt.show()"
   ]
  },
  {
   "cell_type": "code",
   "execution_count": null,
   "id": "ab6a563b",
   "metadata": {},
   "outputs": [],
   "source": [
    "# Plot the percent distribution of images across subdirectories\n",
    "plt.figure(facecolor='white', figsize=(6,6))\n",
    "plt.pie(num_of_images,\n",
    "        labels=dir_list,\n",
    "        colors=colors,\n",
    "        autopct='%.1f%%',\n",
    "        startangle=90)\n",
    "plt.title('Percent Distribution of Umpire Across Categories', fontweight='bold')\n",
    "plt.savefig('pie_chart.png', dpi=200)\n",
    "plt.show()"
   ]
  },
  {
   "cell_type": "code",
   "execution_count": null,
   "id": "b1b9291c",
   "metadata": {},
   "outputs": [],
   "source": [
    "# Display random images, one from each category\n",
    "plt.figure(facecolor='white', figsize=(12,3))\n",
    "for i in range(6):\n",
    "    ax = plt.subplot(1, 6, i + 1)\n",
    "    path = random.choice(glob(DATASET_PATH + '/' + dir_list[i] + '/*'))\n",
    "    plt.imshow(Image.open(path), cmap='gray')\n",
    "    plt.title(dir_list[i])\n",
    "    plt.axis('off')\n",
    "plt.savefig('random_images.png', dpi=200)\n",
    "plt.show()"
   ]
  },
  {
   "cell_type": "code",
   "execution_count": null,
   "id": "7388b458",
   "metadata": {},
   "outputs": [],
   "source": [
    "# Split the dataset folder into test, train, and val folders\n",
    "OUTPUT_PATH = 'dataset_subsets'\n",
    "if not os.path.exists(OUTPUT_PATH):\n",
    "    splitfolders.ratio(DATASET_PATH, OUTPUT_PATH, SEED, (.7, .1, .2))"
   ]
  },
  {
   "cell_type": "code",
   "execution_count": null,
   "id": "458d9e52",
   "metadata": {},
   "outputs": [],
   "source": [
    "IMG_DIMS = 100\n",
    "TARGET_SIZE = (IMG_DIMS, IMG_DIMS)\n",
    "COLOR_MODE = 'rgb'\n",
    "CLASS_MODE = 'categorical'\n",
    "BATCH_SIZE = 16"
   ]
  },
  {
   "cell_type": "code",
   "execution_count": null,
   "id": "3535c965",
   "metadata": {},
   "outputs": [],
   "source": [
    "# Take the path to the train folder and generate batches of data\n",
    "TRAIN_PATH = os.path.join(OUTPUT_PATH, 'train')\n",
    "train_datagen = ImageDataGenerator(\n",
    "    preprocessing_function=preprocess_input,\n",
    "    rotation_range=5,\n",
    "    width_shift_range=0.05,\n",
    "    height_shift_range=0.05,\n",
    "    brightness_range=[0.9, 1.1],\n",
    "    zoom_range=[0.9, 1.1],\n",
    "    horizontal_flip=True)\n",
    "train_gen = train_datagen.flow_from_directory(\n",
    "    TRAIN_PATH,\n",
    "    target_size=TARGET_SIZE,\n",
    "    color_mode=COLOR_MODE,\n",
    "    class_mode=CLASS_MODE,\n",
    "    batch_size=BATCH_SIZE,\n",
    "    seed=SEED)"
   ]
  },
  {
   "cell_type": "code",
   "execution_count": null,
   "id": "b9e6708c",
   "metadata": {},
   "outputs": [],
   "source": [
    "# Take the path to the val folder and generate batches of data\n",
    "VAL_PATH = os.path.join(OUTPUT_PATH, 'val')\n",
    "val_datagen = ImageDataGenerator(\n",
    "    preprocessing_function=preprocess_input)\n",
    "val_gen = val_datagen.flow_from_directory(\n",
    "    VAL_PATH,\n",
    "    target_size=TARGET_SIZE,\n",
    "    color_mode=COLOR_MODE,\n",
    "    class_mode=CLASS_MODE,\n",
    "    batch_size=BATCH_SIZE,\n",
    "    seed=SEED)"
   ]
  },
  {
   "cell_type": "code",
   "execution_count": null,
   "id": "9622c5a7",
   "metadata": {},
   "outputs": [],
   "source": [
    "# Take the path to the train folder and generate batches of data\n",
    "TEST_PATH = os.path.join(OUTPUT_PATH, 'test')\n",
    "test_datagen = ImageDataGenerator(\n",
    "    preprocessing_function=preprocess_input)\n",
    "test_gen = test_datagen.flow_from_directory(\n",
    "    TEST_PATH,\n",
    "    target_size=TARGET_SIZE,\n",
    "    color_mode=COLOR_MODE,\n",
    "    class_mode=CLASS_MODE,\n",
    "    batch_size=BATCH_SIZE,\n",
    "    shuffle=False,\n",
    "    seed=SEED)"
   ]
  },
  {
   "cell_type": "code",
   "execution_count": null,
   "id": "af6a1207",
   "metadata": {},
   "outputs": [],
   "source": [
    "print(train_gen.directory)\n",
    "print(val_gen.directory)\n",
    "print(test_gen.directory)"
   ]
  },
  {
   "cell_type": "code",
   "execution_count": null,
   "id": "5b88f54b",
   "metadata": {},
   "outputs": [],
   "source": [
    "print(train_gen.class_indices)"
   ]
  },
  {
   "cell_type": "code",
   "execution_count": null,
   "id": "143ff3c9",
   "metadata": {},
   "outputs": [],
   "source": [
    "# Print the shapes of the first training batch tuple\n",
    "images, labels = next(iter(train_gen))\n",
    "print('images shape:', images.shape)  # (batch_size, *target_size, channels)\n",
    "print('labels shape:', labels.shape)  # (batch_size, num_classes)"
   ]
  },
  {
   "cell_type": "code",
   "execution_count": null,
   "id": "ad096a60",
   "metadata": {},
   "outputs": [],
   "source": [
    "# Instantiate a Densenet121 architecture without the fully-connected layer\n",
    "base_model = DenseNet121(\n",
    "    include_top=False,\n",
    "    weights='imagenet',\n",
    "    input_tensor=Input(shape=(IMG_DIMS, IMG_DIMS, 3)),\n",
    "    input_shape=(IMG_DIMS, IMG_DIMS, 3))"
   ]
  },
  {
   "cell_type": "code",
   "execution_count": null,
   "id": "dd5d7746",
   "metadata": {},
   "outputs": [],
   "source": [
    "# Freeze the base model layers\n",
    "for layer in base_model.layers:\n",
    "    layer.trainable = False"
   ]
  },
  {
   "cell_type": "code",
   "execution_count": null,
   "id": "a337328b",
   "metadata": {},
   "outputs": [],
   "source": [
    "# Build the modified DenseNet121 model\n",
    "model = Sequential()\n",
    "model.add(base_model)\n",
    "model.add(Flatten())\n",
    "model.add(BatchNormalization())\n",
    "model.add(Dense(1024, activation='relu'))\n",
    "model.add(Dropout(0.4))\n",
    "model.add(BatchNormalization())\n",
    "model.add(Dense(512, activation='relu'))\n",
    "model.add(Dropout(0.4))\n",
    "model.add(BatchNormalization())\n",
    "model.add(Dense(256, activation='relu'))\n",
    "model.add(Dense(6, activation='softmax'))"
   ]
  },
  {
   "cell_type": "code",
   "execution_count": null,
   "id": "aaf29990",
   "metadata": {},
   "outputs": [],
   "source": [
    "model.summary()"
   ]
  },
  {
   "cell_type": "code",
   "execution_count": null,
   "id": "97f59332",
   "metadata": {},
   "outputs": [],
   "source": [
    "# Define hyperparameters\n",
    "EPOCHS = 2\n",
    "ETA = 0.0001"
   ]
  },
  {
   "cell_type": "code",
   "execution_count": null,
   "id": "71e9986a",
   "metadata": {},
   "outputs": [],
   "source": [
    "METRICS = ['categorical_accuracy', Precision(), Recall()]"
   ]
  },
  {
   "cell_type": "code",
   "execution_count": null,
   "id": "ab44b8a5",
   "metadata": {},
   "outputs": [],
   "source": [
    "# Compile the model\n",
    "model.compile(optimizer=Adam(ETA),\n",
    "              loss='categorical_crossentropy',\n",
    "              metrics=METRICS)"
   ]
  },
  {
   "cell_type": "code",
   "execution_count": null,
   "id": "7b7affad",
   "metadata": {},
   "outputs": [],
   "source": [
    "# Create a learning rate scheduler callback\n",
    "def scheduler(epoch):\n",
    "    if epoch > 19:\n",
    "        return ETA * 0.1\n",
    "    else:\n",
    "        return ETA\n",
    "callback = LearningRateScheduler(scheduler)"
   ]
  },
  {
   "cell_type": "code",
   "execution_count": null,
   "id": "6e7b5109",
   "metadata": {},
   "outputs": [],
   "source": [
    "# Estimate class weights for the unbalanced dataset\n",
    "cls_wt = compute_class_weight(class_weight='balanced',\n",
    "                              classes=np.unique(train_gen.labels),\n",
    "                              y=train_gen.labels)\n",
    "class_weight = {0: cls_wt[0], 1: cls_wt[1],2: cls_wt[2], 3: cls_wt[3],4: cls_wt[4], 5: cls_wt[5]}\n",
    "print(class_weight)"
   ]
  },
  {
   "cell_type": "code",
   "execution_count": null,
   "id": "089cb77a",
   "metadata": {},
   "outputs": [],
   "source": [
    "# Train the model\n",
    "history = model.fit(train_gen,\n",
    "                    epochs=EPOCHS,\n",
    "                    callbacks=callback,\n",
    "                    validation_data=val_gen,\n",
    "                    class_weight=class_weight)"
   ]
  },
  {
   "cell_type": "code",
   "execution_count": null,
   "id": "9c64e28f",
   "metadata": {},
   "outputs": [],
   "source": [
    "def plot_metric_history(metric, val_metric, y_label, title):\n",
    "    \"\"\"\n",
    "    Plots a training history metric.\n",
    "\n",
    "    :param metric: the metric key\n",
    "    :param val_metric: the validation metric key\n",
    "    :param y_label: the y-axis label\n",
    "    :param title: the title\n",
    "    :return: None\n",
    "    \"\"\"\n",
    "    plt.figure(facecolor='white', figsize=(8, 6))\n",
    "    plt.plot(history.history[metric])\n",
    "    plt.plot(history.history[val_metric])\n",
    "    plt.ylabel(y_label)\n",
    "    plt.xlabel('epoch')\n",
    "    plt.title(title)\n",
    "    plt.legend(['training', 'validation'])\n",
    "    plt.savefig(y_label + '.png', dpi=200)\n",
    "    plt.show()"
   ]
  },
  {
   "cell_type": "code",
   "execution_count": null,
   "id": "e9e6dd0f",
   "metadata": {},
   "outputs": [],
   "source": [
    "# Visualize loss history\n",
    "plot_metric_history(metric='loss',\n",
    "                    val_metric='val_loss',\n",
    "                    y_label='categorical crossentropy loss',\n",
    "                    title='Loss')"
   ]
  },
  {
   "cell_type": "code",
   "execution_count": null,
   "id": "868e1534",
   "metadata": {},
   "outputs": [],
   "source": [
    "# Visualize accuracy history\n",
    "plot_metric_history(metric='categorical_accuracy',\n",
    "                    val_metric='val_categorical_accuracy',\n",
    "                    y_label='categorical accuracy',\n",
    "                    title='Accuracy')"
   ]
  },
  {
   "cell_type": "code",
   "execution_count": null,
   "id": "f8d4cd96",
   "metadata": {},
   "outputs": [],
   "source": [
    "# Visualize precision history\n",
    "plot_metric_history(metric='precision',\n",
    "                    val_metric='val_precision',\n",
    "                    y_label='precision',\n",
    "                    title='Precision')"
   ]
  },
  {
   "cell_type": "code",
   "execution_count": null,
   "id": "9ceb35b1",
   "metadata": {},
   "outputs": [],
   "source": [
    "# Visualize recall history\n",
    "plot_metric_history(metric='recall',\n",
    "                    val_metric='val_recall',\n",
    "                    y_label='recall',\n",
    "                    title='Recall')"
   ]
  },
  {
   "cell_type": "code",
   "execution_count": null,
   "id": "a91a90c5",
   "metadata": {},
   "outputs": [],
   "source": [
    "# Print metrics values for the model in test mode\n",
    "result = model.evaluate(test_gen)\n",
    "dict(zip(model.metrics_names, result))"
   ]
  },
  {
   "cell_type": "code",
   "execution_count": null,
   "id": "8fa286c7",
   "metadata": {},
   "outputs": [],
   "source": [
    "predictions = model.predict(test_gen)"
   ]
  },
  {
   "cell_type": "code",
   "execution_count": null,
   "id": "9e842e25",
   "metadata": {},
   "outputs": [],
   "source": [
    "# Initialize true and predicted label values\n",
    "y_true = test_gen.labels\n",
    "y_pred = np.argmax(predictions, axis=1)"
   ]
  },
  {
   "cell_type": "code",
   "execution_count": null,
   "id": "3dba1db8",
   "metadata": {},
   "outputs": [],
   "source": [
    "# Build a text report showing the main classification metrics\n",
    "report = classification_report(y_true, y_pred)\n",
    "print(report)"
   ]
  },
  {
   "cell_type": "code",
   "execution_count": null,
   "id": "4682f755",
   "metadata": {},
   "outputs": [],
   "source": [
    "# Plot a confusion matrix given true and predicted labels\n",
    "fig, ax = plt.subplots(facecolor='white', figsize=(12, 8), dpi=75)\n",
    "fig = ConfusionMatrixDisplay.from_predictions(y_true,\n",
    "                                              y_pred,\n",
    "                                              display_labels=test_gen.class_indices,\n",
    "                                              include_values=True,\n",
    "                                              normalize='pred',\n",
    "                                              values_format='.2f',\n",
    "                                              cmap='viridis',\n",
    "                                              ax=ax)\n",
    "plt.tick_params(left=False, bottom=False)\n",
    "plt.title('Confusion Matrix', fontsize=15, fontweight='bold', pad=30)\n",
    "plt.savefig('confusion_matrix.png', dpi=200)\n",
    "plt.show()"
   ]
  },
  {
   "cell_type": "code",
   "execution_count": null,
   "id": "e45afe90",
   "metadata": {},
   "outputs": [],
   "source": [
    "model.save_weights(\"densenet121.h5\")"
   ]
  },
  {
   "cell_type": "code",
   "execution_count": null,
   "id": "9330581e",
   "metadata": {},
   "outputs": [],
   "source": [
    "filepath=\"densenet121.hdf5\"\n",
    "model.save(filepath)"
   ]
  },
  {
   "cell_type": "code",
   "execution_count": null,
   "id": "a15a6d2e",
   "metadata": {},
   "outputs": [],
   "source": [
    "from tensorflow.keras.models import load_model\n",
    "classifier = load_model('densenet121.hdf5')"
   ]
  },
  {
   "cell_type": "code",
   "execution_count": null,
   "id": "46dcf62a",
   "metadata": {},
   "outputs": [],
   "source": [
    "def predict(image_path):\n",
    "    from skimage import io\n",
    "    from keras.preprocessing import image\n",
    "    #path='imbalanced/Scratch/Scratch_400.jpg'\n",
    "    import tensorflow as tf\n",
    "\n",
    "    img = tf.keras.utils.load_img(image_path, grayscale=False, target_size=(100, 100))\n",
    "    show_img=tf.keras.utils.load_img(image_path, grayscale=False, target_size=(100, 100))\n",
    "    disease_class = ['normal','umpire']\n",
    "    x = tf.keras.utils.img_to_array(img)\n",
    "    x = np.expand_dims(x, axis = 0)\n",
    "    #x = np.array(x, 'float32')\n",
    "    x /= 255\n",
    "\n",
    "    custom = classifier.predict(x)\n",
    "    print(custom[0])\n",
    "\n",
    "\n",
    "\n",
    "    #x = x.reshape([64, 64]);\n",
    "\n",
    "    #plt.gray()\n",
    "    plt.imshow(show_img)\n",
    "    plt.show()\n",
    "\n",
    "    a=custom[0]\n",
    "    ind=np.argmax(a)\n",
    "\n",
    "    print('Prediction:',disease_class[ind])\n"
   ]
  },
  {
   "cell_type": "code",
   "execution_count": null,
   "id": "9862e02f",
   "metadata": {},
   "outputs": [],
   "source": [
    "predict('1.jpg')"
   ]
  },
  {
   "cell_type": "code",
   "execution_count": null,
   "id": "c818c12f",
   "metadata": {},
   "outputs": [],
   "source": [
    "predict('2.jpg')"
   ]
  },
  {
   "cell_type": "code",
   "execution_count": null,
   "id": "9a8b848a",
   "metadata": {},
   "outputs": [],
   "source": [
    "predict('7.jpg')"
   ]
  },
  {
   "cell_type": "code",
   "execution_count": null,
   "id": "ec0ec31a",
   "metadata": {},
   "outputs": [],
   "source": []
  }
 ],
 "metadata": {
  "kernelspec": {
   "display_name": "Python 3 (ipykernel)",
   "language": "python",
   "name": "python3"
  },
  "language_info": {
   "codemirror_mode": {
    "name": "ipython",
    "version": 3
   },
   "file_extension": ".py",
   "mimetype": "text/x-python",
   "name": "python",
   "nbconvert_exporter": "python",
   "pygments_lexer": "ipython3",
   "version": "3.9.13"
  }
 },
 "nbformat": 4,
 "nbformat_minor": 5
}
