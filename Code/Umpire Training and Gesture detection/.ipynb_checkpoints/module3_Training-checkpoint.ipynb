{
 "cells": [
  {
   "cell_type": "code",
   "execution_count": 1,
   "metadata": {},
   "outputs": [],
   "source": [
    "#............................................Training & Testing using deep learning......................................#\n",
    "import os\n",
    "import cv2\n",
    "import time\n",
    "import numpy as np\n",
    "from keras.layers import Conv2D \n",
    "from keras.layers import Dense\n",
    "from keras.layers import Flatten\n",
    "from keras.layers import Dropout\n",
    "from keras.layers import MaxPooling2D\n",
    "from keras.models import Sequential, save_model\n",
    "from keras.utils import np_utils\n",
    "from keras.callbacks import ModelCheckpoint\n",
    "from keras.models import load_model\n",
    "from sklearn.model_selection import train_test_split\n",
    "from sklearn.utils import shuffle\n",
    "from sklearn.metrics import accuracy_score\n",
    "from sklearn.metrics import classification_report, confusion_matrix\n",
    "import warnings\n",
    "warnings.filterwarnings(action = 'ignore')\n",
    "import seaborn as sns\n",
    "import matplotlib.pyplot as plt\n",
    "%matplotlib inline"
   ]
  },
  {
   "cell_type": "code",
   "execution_count": 2,
   "metadata": {},
   "outputs": [],
   "source": [
    "path = 'data/'"
   ]
  },
  {
   "cell_type": "code",
   "execution_count": 3,
   "metadata": {},
   "outputs": [],
   "source": [
    "gestures = os.listdir(path)"
   ]
  },
  {
   "cell_type": "code",
   "execution_count": 4,
   "metadata": {},
   "outputs": [
    {
     "data": {
      "text/plain": [
       "['normal', 'umpire']"
      ]
     },
     "execution_count": 4,
     "metadata": {},
     "output_type": "execute_result"
    }
   ],
   "source": [
    "gestures"
   ]
  },
  {
   "cell_type": "code",
   "execution_count": 5,
   "metadata": {},
   "outputs": [],
   "source": [
    "dict_labels = {\n",
    "    'normal': 1,\n",
    "    'umpire': 2\n",
    "    \n",
    "    \n",
    "}"
   ]
  },
  {
   "cell_type": "code",
   "execution_count": 6,
   "metadata": {},
   "outputs": [
    {
     "name": "stdout",
     "output_type": "stream",
     "text": [
      "['normal', 'umpire']\n"
     ]
    }
   ],
   "source": [
    "print(list(dict_labels.keys()))"
   ]
  },
  {
   "cell_type": "code",
   "execution_count": 8,
   "metadata": {},
   "outputs": [
    {
     "ename": "ValueError",
     "evalue": "cannot reshape array of size 1555200 into shape (300,300,1)",
     "output_type": "error",
     "traceback": [
      "\u001b[1;31m---------------------------------------------------------------------------\u001b[0m",
      "\u001b[1;31mValueError\u001b[0m                                Traceback (most recent call last)",
      "\u001b[1;32m~\\AppData\\Local\\Temp\\ipykernel_10368\\2134845106.py\u001b[0m in \u001b[0;36m<module>\u001b[1;34m\u001b[0m\n\u001b[0;32m      5\u001b[0m         \u001b[0mimg_path\u001b[0m \u001b[1;33m=\u001b[0m \u001b[0mpath\u001b[0m \u001b[1;33m+\u001b[0m \u001b[0mix\u001b[0m \u001b[1;33m+\u001b[0m \u001b[1;34m'/'\u001b[0m \u001b[1;33m+\u001b[0m \u001b[0mcx\u001b[0m\u001b[1;33m\u001b[0m\u001b[1;33m\u001b[0m\u001b[0m\n\u001b[0;32m      6\u001b[0m         \u001b[0mimg\u001b[0m \u001b[1;33m=\u001b[0m \u001b[0mcv2\u001b[0m\u001b[1;33m.\u001b[0m\u001b[0mimread\u001b[0m\u001b[1;33m(\u001b[0m\u001b[0mimg_path\u001b[0m\u001b[1;33m,\u001b[0m \u001b[1;36m0\u001b[0m\u001b[1;33m)\u001b[0m\u001b[1;33m\u001b[0m\u001b[1;33m\u001b[0m\u001b[0m\n\u001b[1;32m----> 7\u001b[1;33m         \u001b[0mimg\u001b[0m \u001b[1;33m=\u001b[0m \u001b[0mimg\u001b[0m\u001b[1;33m.\u001b[0m\u001b[0mreshape\u001b[0m\u001b[1;33m(\u001b[0m\u001b[1;33m(\u001b[0m\u001b[1;36m300\u001b[0m\u001b[1;33m,\u001b[0m\u001b[1;36m300\u001b[0m\u001b[1;33m,\u001b[0m\u001b[1;36m1\u001b[0m\u001b[1;33m)\u001b[0m\u001b[1;33m)\u001b[0m\u001b[1;33m\u001b[0m\u001b[1;33m\u001b[0m\u001b[0m\n\u001b[0m\u001b[0;32m      8\u001b[0m         \u001b[0mimg\u001b[0m \u001b[1;33m=\u001b[0m \u001b[0mimg\u001b[0m\u001b[1;33m/\u001b[0m\u001b[1;36m255.0\u001b[0m\u001b[1;33m\u001b[0m\u001b[1;33m\u001b[0m\u001b[0m\n\u001b[0;32m      9\u001b[0m         \u001b[0mx\u001b[0m\u001b[1;33m.\u001b[0m\u001b[0mappend\u001b[0m\u001b[1;33m(\u001b[0m\u001b[0mimg\u001b[0m\u001b[1;33m)\u001b[0m\u001b[1;33m\u001b[0m\u001b[1;33m\u001b[0m\u001b[0m\n",
      "\u001b[1;31mValueError\u001b[0m: cannot reshape array of size 1555200 into shape (300,300,1)"
     ]
    }
   ],
   "source": [
    "x, y = [], []\n",
    "for ix in gestures:\n",
    "    images = os.listdir(path + ix)\n",
    "    for cx in images:\n",
    "        img_path = path + ix + '/' + cx\n",
    "        img = cv2.imread(img_path, 0)\n",
    "        img = img.reshape((300,300,1))\n",
    "        img = img/255.0\n",
    "        x.append(img)\n",
    "        y.append(dict_labels[ix])"
   ]
  },
  {
   "cell_type": "code",
   "execution_count": 12,
   "metadata": {},
   "outputs": [
    {
     "name": "stdout",
     "output_type": "stream",
     "text": [
      "[5 5 5 ... 4 4 4]\n",
      "[[0. 0. 0. 0. 0. 1.]\n",
      " [0. 0. 0. 0. 0. 1.]\n",
      " [0. 0. 0. 0. 0. 1.]\n",
      " ...\n",
      " [0. 0. 0. 0. 1. 0.]\n",
      " [0. 0. 0. 0. 1. 0.]\n",
      " [0. 0. 0. 0. 1. 0.]]\n",
      "<class 'numpy.ndarray'> 5000\n"
     ]
    },
    {
     "data": {
      "text/plain": [
       "(5000, 6)"
      ]
     },
     "execution_count": 12,
     "metadata": {},
     "output_type": "execute_result"
    }
   ],
   "source": [
    "X = np.array(x)\n",
    "Y = np.array(y)\n",
    "print(Y)\n",
    "Y = np_utils.to_categorical(Y)\n",
    "print(Y)\n",
    "print(type(Y),len(Y))\n",
    "Y.shape"
   ]
  },
  {
   "cell_type": "code",
   "execution_count": 10,
   "metadata": {},
   "outputs": [
    {
     "data": {
      "text/plain": [
       "array([[0., 0., 0., 0., 0., 1.],\n",
       "       [0., 0., 0., 0., 0., 1.],\n",
       "       [0., 0., 0., 0., 0., 1.],\n",
       "       ...,\n",
       "       [0., 0., 0., 0., 1., 0.],\n",
       "       [0., 0., 0., 0., 1., 0.],\n",
       "       [0., 0., 0., 0., 1., 0.]], dtype=float32)"
      ]
     },
     "execution_count": 10,
     "metadata": {},
     "output_type": "execute_result"
    }
   ],
   "source": [
    "Y"
   ]
  },
  {
   "cell_type": "code",
   "execution_count": 38,
   "metadata": {},
   "outputs": [
    {
     "data": {
      "text/plain": [
       "<AxesSubplot:ylabel='count'>"
      ]
     },
     "execution_count": 38,
     "metadata": {},
     "output_type": "execute_result"
    },
    {
     "data": {
      "image/png": "[encoded data removed]",
      "text/plain": [
       "<Figure size 1296x576 with 1 Axes>"
      ]
     },
     "metadata": {
      "needs_background": "light"
     },
     "output_type": "display_data"
    }
   ],
   "source": [
    "plt.figure(figsize = (18,8))\n",
    "sns.countplot(x=list(dict_labels.keys()))"
   ]
  },
  {
   "cell_type": "code",
   "execution_count": 39,
   "metadata": {},
   "outputs": [
    {
     "data": {
      "text/plain": [
       "(5000, 6)"
      ]
     },
     "execution_count": 39,
     "metadata": {},
     "output_type": "execute_result"
    }
   ],
   "source": [
    "Y.shape"
   ]
  },
  {
   "cell_type": "code",
   "execution_count": 40,
   "metadata": {},
   "outputs": [],
   "source": [
    "categories = Y.shape[1]"
   ]
  },
  {
   "cell_type": "code",
   "execution_count": 41,
   "metadata": {},
   "outputs": [],
   "source": [
    "X, Y = shuffle(X, Y, random_state=0)"
   ]
  },
  {
   "cell_type": "code",
   "execution_count": 42,
   "metadata": {},
   "outputs": [
    {
     "data": {
      "text/plain": [
       "(5000, 50, 50, 1)"
      ]
     },
     "execution_count": 42,
     "metadata": {},
     "output_type": "execute_result"
    }
   ],
   "source": [
    "X.shape"
   ]
  },
  {
   "cell_type": "code",
   "execution_count": 43,
   "metadata": {},
   "outputs": [],
   "source": [
    "X_train, X_test, Y_train, Y_test = train_test_split(X, Y, test_size=0.3)"
   ]
  },
  {
   "cell_type": "code",
   "execution_count": 44,
   "metadata": {},
   "outputs": [
    {
     "name": "stdout",
     "output_type": "stream",
     "text": [
      "(3500, 50, 50, 1) (1500, 50, 50, 1)\n",
      "(3500, 6) (1500, 6)\n"
     ]
    }
   ],
   "source": [
    "print(X_train.shape, X_test.shape)\n",
    "print(Y_train.shape, Y_test.shape)"
   ]
  },
  {
   "cell_type": "code",
   "execution_count": 45,
   "metadata": {},
   "outputs": [
    {
     "name": "stdout",
     "output_type": "stream",
     "text": [
      "Model: \"sequential_1\"\n",
      "_________________________________________________________________\n",
      " Layer (type)                Output Shape              Param #   \n",
      "=================================================================\n",
      " conv2d_3 (Conv2D)           (None, 48, 48, 64)        640       \n",
      "                                                                 \n",
      " max_pooling2d_3 (MaxPooling  (None, 24, 24, 64)       0         \n",
      " 2D)                                                             \n",
      "                                                                 \n",
      " conv2d_4 (Conv2D)           (None, 22, 22, 64)        36928     \n",
      "                                                                 \n",
      " max_pooling2d_4 (MaxPooling  (None, 11, 11, 64)       0         \n",
      " 2D)                                                             \n",
      "                                                                 \n",
      " conv2d_5 (Conv2D)           (None, 9, 9, 64)          36928     \n",
      "                                                                 \n",
      " max_pooling2d_5 (MaxPooling  (None, 4, 4, 64)         0         \n",
      " 2D)                                                             \n",
      "                                                                 \n",
      " flatten_1 (Flatten)         (None, 1024)              0         \n",
      "                                                                 \n",
      " dense_2 (Dense)             (None, 128)               131200    \n",
      "                                                                 \n",
      " dropout_1 (Dropout)         (None, 128)               0         \n",
      "                                                                 \n",
      " dense_3 (Dense)             (None, 6)                 774       \n",
      "                                                                 \n",
      "=================================================================\n",
      "Total params: 206,470\n",
      "Trainable params: 206,470\n",
      "Non-trainable params: 0\n",
      "_________________________________________________________________\n"
     ]
    }
   ],
   "source": [
    "model = Sequential()\n",
    "model.add(Conv2D(64, kernel_size=(3,3), activation = 'relu', input_shape=(50,50 ,1) ))\n",
    "model.add(MaxPooling2D(pool_size = (2, 2)))\n",
    "\n",
    "model.add(Conv2D(64, kernel_size = (3, 3), activation = 'relu'))\n",
    "model.add(MaxPooling2D(pool_size = (2, 2)))\n",
    "\n",
    "model.add(Conv2D(64, kernel_size = (3, 3), activation = 'relu'))\n",
    "model.add(MaxPooling2D(pool_size = (2, 2)))\n",
    "\n",
    "model.add(Flatten())\n",
    "model.add(Dense(128, activation = 'relu'))\n",
    "model.add(Dropout(0.20))\n",
    "model.add(Dense(categories, activation = 'softmax'))\n",
    "\n",
    "model.summary()"
   ]
  },
  {
   "cell_type": "code",
   "execution_count": 46,
   "metadata": {},
   "outputs": [],
   "source": [
    "model.compile(optimizer='Adam', metrics=['accuracy'], loss='categorical_crossentropy')"
   ]
  },
  {
   "cell_type": "code",
   "execution_count": 47,
   "metadata": {
    "scrolled": false
   },
   "outputs": [
    {
     "name": "stdout",
     "output_type": "stream",
     "text": [
      "Epoch 1/50\n",
      "28/28 [==============================] - 9s 306ms/step - loss: 0.4147 - accuracy: 0.8426 - val_loss: 0.0034 - val_accuracy: 0.9993\n",
      "Epoch 2/50\n",
      "28/28 [==============================] - 8s 302ms/step - loss: 0.0028 - accuracy: 0.9991 - val_loss: 1.1988e-04 - val_accuracy: 1.0000\n",
      "Epoch 3/50\n",
      "28/28 [==============================] - 17s 636ms/step - loss: 1.5494e-04 - accuracy: 1.0000 - val_loss: 7.8620e-05 - val_accuracy: 1.0000\n",
      "Epoch 4/50\n",
      "28/28 [==============================] - 16s 552ms/step - loss: 1.3075e-04 - accuracy: 1.0000 - val_loss: 2.2091e-05 - val_accuracy: 1.0000\n",
      "Epoch 5/50\n",
      "28/28 [==============================] - 12s 428ms/step - loss: 5.6460e-05 - accuracy: 1.0000 - val_loss: 1.4031e-05 - val_accuracy: 1.0000\n",
      "Epoch 6/50\n",
      "28/28 [==============================] - 13s 455ms/step - loss: 4.8567e-05 - accuracy: 1.0000 - val_loss: 9.7150e-06 - val_accuracy: 1.0000\n",
      "Epoch 7/50\n",
      "28/28 [==============================] - 9s 337ms/step - loss: 3.3049e-05 - accuracy: 1.0000 - val_loss: 7.3980e-06 - val_accuracy: 1.0000\n",
      "Epoch 8/50\n",
      "28/28 [==============================] - 9s 318ms/step - loss: 3.6771e-05 - accuracy: 1.0000 - val_loss: 5.7441e-06 - val_accuracy: 1.0000\n",
      "Epoch 9/50\n",
      "28/28 [==============================] - 9s 332ms/step - loss: 4.9800e-05 - accuracy: 1.0000 - val_loss: 3.1716e-06 - val_accuracy: 1.0000\n",
      "Epoch 10/50\n",
      "28/28 [==============================] - 10s 353ms/step - loss: 8.4994e-06 - accuracy: 1.0000 - val_loss: 2.8381e-06 - val_accuracy: 1.0000\n",
      "Epoch 11/50\n",
      "28/28 [==============================] - 11s 393ms/step - loss: 1.3744e-05 - accuracy: 1.0000 - val_loss: 2.7893e-06 - val_accuracy: 1.0000\n",
      "Epoch 12/50\n",
      "28/28 [==============================] - 12s 435ms/step - loss: 1.3576e-05 - accuracy: 1.0000 - val_loss: 2.6377e-06 - val_accuracy: 1.0000\n",
      "Epoch 13/50\n",
      "28/28 [==============================] - 11s 384ms/step - loss: 2.7441e-05 - accuracy: 1.0000 - val_loss: 2.0962e-06 - val_accuracy: 1.0000\n",
      "Epoch 14/50\n",
      "28/28 [==============================] - 9s 339ms/step - loss: 1.4578e-05 - accuracy: 1.0000 - val_loss: 2.1524e-06 - val_accuracy: 1.0000\n",
      "Epoch 15/50\n",
      "28/28 [==============================] - 9s 338ms/step - loss: 1.8477e-04 - accuracy: 1.0000 - val_loss: 1.4926e-06 - val_accuracy: 1.0000\n",
      "Epoch 16/50\n",
      "28/28 [==============================] - 9s 328ms/step - loss: 3.0638e-04 - accuracy: 1.0000 - val_loss: 8.1997e-05 - val_accuracy: 1.0000\n",
      "Epoch 17/50\n",
      "28/28 [==============================] - 9s 341ms/step - loss: 4.2514e-05 - accuracy: 1.0000 - val_loss: 7.9851e-06 - val_accuracy: 1.0000\n",
      "Epoch 18/50\n",
      "28/28 [==============================] - 9s 336ms/step - loss: 1.8605e-05 - accuracy: 1.0000 - val_loss: 7.8844e-06 - val_accuracy: 1.0000\n",
      "Epoch 19/50\n",
      "28/28 [==============================] - 10s 358ms/step - loss: 1.2975e-05 - accuracy: 1.0000 - val_loss: 7.2291e-06 - val_accuracy: 1.0000\n",
      "Epoch 20/50\n",
      "28/28 [==============================] - 10s 345ms/step - loss: 1.2826e-05 - accuracy: 1.0000 - val_loss: 3.7803e-06 - val_accuracy: 1.0000\n",
      "Epoch 21/50\n",
      "28/28 [==============================] - 9s 333ms/step - loss: 1.5873e-05 - accuracy: 1.0000 - val_loss: 1.7411e-06 - val_accuracy: 1.0000\n",
      "Epoch 22/50\n",
      "28/28 [==============================] - 10s 346ms/step - loss: 7.5914e-06 - accuracy: 1.0000 - val_loss: 1.5177e-06 - val_accuracy: 1.0000\n",
      "Epoch 23/50\n",
      "28/28 [==============================] - 10s 344ms/step - loss: 8.3253e-06 - accuracy: 1.0000 - val_loss: 1.1996e-06 - val_accuracy: 1.0000\n",
      "Epoch 24/50\n",
      "28/28 [==============================] - 10s 340ms/step - loss: 4.8968e-06 - accuracy: 1.0000 - val_loss: 1.1096e-06 - val_accuracy: 1.0000\n",
      "Epoch 25/50\n",
      "28/28 [==============================] - 10s 347ms/step - loss: 2.4906e-06 - accuracy: 1.0000 - val_loss: 1.0888e-06 - val_accuracy: 1.0000\n",
      "Epoch 26/50\n",
      "28/28 [==============================] - 10s 349ms/step - loss: 1.3607e-05 - accuracy: 1.0000 - val_loss: 8.8807e-07 - val_accuracy: 1.0000\n",
      "Epoch 27/50\n",
      "28/28 [==============================] - 10s 348ms/step - loss: 2.6248e-06 - accuracy: 1.0000 - val_loss: 8.4898e-07 - val_accuracy: 1.0000\n",
      "Epoch 28/50\n",
      "28/28 [==============================] - 10s 345ms/step - loss: 4.3856e-06 - accuracy: 1.0000 - val_loss: 8.2561e-07 - val_accuracy: 1.0000\n",
      "Epoch 29/50\n",
      "28/28 [==============================] - 10s 348ms/step - loss: 6.7737e-06 - accuracy: 1.0000 - val_loss: 8.5405e-07 - val_accuracy: 1.0000\n",
      "Epoch 30/50\n",
      "28/28 [==============================] - 10s 349ms/step - loss: 3.1048e-06 - accuracy: 1.0000 - val_loss: 9.2427e-07 - val_accuracy: 1.0000\n",
      "Epoch 31/50\n",
      "28/28 [==============================] - 10s 341ms/step - loss: 3.2122e-06 - accuracy: 1.0000 - val_loss: 8.3283e-07 - val_accuracy: 1.0000\n",
      "Epoch 32/50\n",
      "28/28 [==============================] - 10s 363ms/step - loss: 4.0152e-06 - accuracy: 1.0000 - val_loss: 8.2631e-07 - val_accuracy: 1.0000\n",
      "Epoch 33/50\n",
      "28/28 [==============================] - 10s 355ms/step - loss: 4.7916e-06 - accuracy: 1.0000 - val_loss: 7.2445e-07 - val_accuracy: 1.0000\n",
      "Epoch 34/50\n",
      "28/28 [==============================] - 10s 343ms/step - loss: 1.8670e-06 - accuracy: 1.0000 - val_loss: 6.5454e-07 - val_accuracy: 1.0000\n",
      "Epoch 35/50\n",
      "28/28 [==============================] - 10s 359ms/step - loss: 5.6861e-06 - accuracy: 1.0000 - val_loss: 6.4079e-07 - val_accuracy: 1.0000\n",
      "Epoch 36/50\n",
      "28/28 [==============================] - 10s 350ms/step - loss: 1.8468e-06 - accuracy: 1.0000 - val_loss: 6.2633e-07 - val_accuracy: 1.0000\n",
      "Epoch 37/50\n",
      "28/28 [==============================] - 10s 348ms/step - loss: 1.6986e-06 - accuracy: 1.0000 - val_loss: 6.5802e-07 - val_accuracy: 1.0000\n",
      "Epoch 38/50\n",
      "28/28 [==============================] - 10s 361ms/step - loss: 1.6316e-06 - accuracy: 1.0000 - val_loss: 6.2481e-07 - val_accuracy: 1.0000\n",
      "Epoch 39/50\n",
      "28/28 [==============================] - 10s 373ms/step - loss: 1.9641e-06 - accuracy: 1.0000 - val_loss: 6.0479e-07 - val_accuracy: 1.0000\n",
      "Epoch 40/50\n",
      "28/28 [==============================] - 10s 369ms/step - loss: 1.5476e-06 - accuracy: 1.0000 - val_loss: 5.2613e-07 - val_accuracy: 1.0000\n",
      "Epoch 41/50\n",
      "28/28 [==============================] - 10s 348ms/step - loss: 1.1514e-06 - accuracy: 1.0000 - val_loss: 5.0841e-07 - val_accuracy: 1.0000\n",
      "Epoch 42/50\n",
      "28/28 [==============================] - 10s 354ms/step - loss: 2.2104e-06 - accuracy: 1.0000 - val_loss: 5.0166e-07 - val_accuracy: 1.0000\n",
      "Epoch 43/50\n",
      "28/28 [==============================] - 10s 360ms/step - loss: 2.3536e-06 - accuracy: 1.0000 - val_loss: 4.1648e-07 - val_accuracy: 1.0000\n",
      "Epoch 44/50\n",
      "28/28 [==============================] - 10s 354ms/step - loss: 1.1596e-06 - accuracy: 1.0000 - val_loss: 4.0115e-07 - val_accuracy: 1.0000\n",
      "Epoch 45/50\n",
      "28/28 [==============================] - 10s 352ms/step - loss: 1.7329e-06 - accuracy: 1.0000 - val_loss: 3.9384e-07 - val_accuracy: 1.0000\n",
      "Epoch 46/50\n",
      "28/28 [==============================] - 10s 350ms/step - loss: 1.6889e-06 - accuracy: 1.0000 - val_loss: 3.6046e-07 - val_accuracy: 1.0000\n",
      "Epoch 47/50\n",
      "28/28 [==============================] - 9s 340ms/step - loss: 9.0546e-07 - accuracy: 1.0000 - val_loss: 3.4338e-07 - val_accuracy: 1.0000\n",
      "Epoch 48/50\n",
      "28/28 [==============================] - 10s 355ms/step - loss: 6.1132e-07 - accuracy: 1.0000 - val_loss: 3.3829e-07 - val_accuracy: 1.0000\n",
      "Epoch 49/50\n",
      "28/28 [==============================] - 10s 346ms/step - loss: 7.7223e-07 - accuracy: 1.0000 - val_loss: 3.3122e-07 - val_accuracy: 1.0000\n",
      "Epoch 50/50\n",
      "28/28 [==============================] - 10s 358ms/step - loss: 8.7147e-06 - accuracy: 1.0000 - val_loss: 1.3089e-07 - val_accuracy: 1.0000\n"
     ]
    }
   ],
   "source": [
    "history = model.fit(X_train, Y_train, batch_size=128, epochs=50, validation_data=[X_test, Y_test])"
   ]
  },
  {
   "cell_type": "code",
   "execution_count": 48,
   "metadata": {},
   "outputs": [
    {
     "data": {
      "image/png": "[encoded data removed]",
      "text/plain": [
       "<Figure size 432x288 with 1 Axes>"
      ]
     },
     "metadata": {
      "needs_background": "light"
     },
     "output_type": "display_data"
    }
   ],
   "source": [
    "plt.plot(history.history['accuracy'])\n",
    "plt.plot(history.history['val_accuracy'])\n",
    "plt.title(\"Accuracy\")\n",
    "plt.xlabel('epoch')\n",
    "plt.ylabel('accuracy')\n",
    "plt.legend(['train','test'])\n",
    "plt.show()"
   ]
  },
  {
   "cell_type": "code",
   "execution_count": 49,
   "metadata": {},
   "outputs": [],
   "source": [
    "model.save('CNN_model.h5')"
   ]
  },
  {
   "cell_type": "code",
   "execution_count": 50,
   "metadata": {},
   "outputs": [],
   "source": [
    "m = load_model('CNN_model.h5')"
   ]
  },
  {
   "cell_type": "code",
   "execution_count": 51,
   "metadata": {},
   "outputs": [],
   "source": [
    "test_data = os.listdir('Test/')"
   ]
  },
  {
   "cell_type": "code",
   "execution_count": 52,
   "metadata": {},
   "outputs": [
    {
     "data": {
      "text/plain": [
       "{'Out': 1, 'No_ball': 2, 'Six': 3, 'Two': 4, 'None': 5}"
      ]
     },
     "execution_count": 52,
     "metadata": {},
     "output_type": "execute_result"
    }
   ],
   "source": [
    "dict_labels"
   ]
  },
  {
   "cell_type": "code",
   "execution_count": 53,
   "metadata": {},
   "outputs": [
    {
     "name": "stdout",
     "output_type": "stream",
     "text": [
      "None\n",
      "No_ball\n",
      "Out\n"
     ]
    }
   ],
   "source": [
    "for ix in test_data:\n",
    "    print(ix)"
   ]
  },
  {
   "cell_type": "code",
   "execution_count": 54,
   "metadata": {},
   "outputs": [],
   "source": [
    "x, y = [], []\n",
    "for ix in test_data:\n",
    "    images = os.listdir('Test/' + ix)\n",
    "    for cx in range(1,201):\n",
    "        img_path = 'Test/' + ix + '/' + str(cx) + '.jpg'\n",
    "        img = cv2.imread(img_path, 0)\n",
    "        img = img.reshape((50,50,1))\n",
    "        img = img/255.0\n",
    "        x.append(img)\n",
    "        y.append(dict_labels[ix])"
   ]
  },
  {
   "cell_type": "code",
   "execution_count": 55,
   "metadata": {},
   "outputs": [],
   "source": [
    "X_t = np.array(x)\n",
    "y_t = np.array(y)\n",
    "Y_t = np_utils.to_categorical(y_t)"
   ]
  },
  {
   "cell_type": "code",
   "execution_count": 56,
   "metadata": {},
   "outputs": [
    {
     "data": {
      "text/plain": [
       "(600, 50, 50, 1)"
      ]
     },
     "execution_count": 56,
     "metadata": {},
     "output_type": "execute_result"
    }
   ],
   "source": [
    "X_t.shape"
   ]
  },
  {
   "cell_type": "code",
   "execution_count": 57,
   "metadata": {},
   "outputs": [],
   "source": [
    "y_pred = m.predict(X_t)"
   ]
  },
  {
   "cell_type": "code",
   "execution_count": 58,
   "metadata": {},
   "outputs": [
    {
     "name": "stdout",
     "output_type": "stream",
     "text": [
      "Accuracy: 0.6666666666666666\n"
     ]
    }
   ],
   "source": [
    "acc = accuracy_score(Y_t, y_pred.round())\n",
    "print('Accuracy:', acc)"
   ]
  },
  {
   "cell_type": "code",
   "execution_count": 59,
   "metadata": {},
   "outputs": [
    {
     "name": "stdout",
     "output_type": "stream",
     "text": [
      "              precision    recall  f1-score   support\n",
      "\n",
      "           0       0.00      0.00      0.00         0\n",
      "           1       1.00      1.00      1.00       200\n",
      "           2       1.00      1.00      1.00       200\n",
      "           3       0.00      0.00      0.00         0\n",
      "           4       0.00      0.00      0.00       200\n",
      "           5       0.00      0.00      0.00         0\n",
      "\n",
      "   micro avg       0.67      0.67      0.67       600\n",
      "   macro avg       0.33      0.33      0.33       600\n",
      "weighted avg       0.67      0.67      0.67       600\n",
      " samples avg       0.67      0.67      0.67       600\n",
      "\n"
     ]
    }
   ],
   "source": [
    "print(classification_report(y_pred.round(), Y_t))"
   ]
  },
  {
   "cell_type": "code",
   "execution_count": null,
   "metadata": {},
   "outputs": [],
   "source": []
  },
  {
   "cell_type": "code",
   "execution_count": null,
   "metadata": {},
   "outputs": [],
   "source": []
  },
  {
   "cell_type": "code",
   "execution_count": null,
   "metadata": {},
   "outputs": [],
   "source": []
  }
 ],
 "metadata": {
  "kernelspec": {
   "display_name": "Python 3 (ipykernel)",
   "language": "python",
   "name": "python3"
  },
  "language_info": {
   "codemirror_mode": {
    "name": "ipython",
    "version": 3
   },
   "file_extension": ".py",
   "mimetype": "text/x-python",
   "name": "python",
   "nbconvert_exporter": "python",
   "pygments_lexer": "ipython3",
   "version": "3.9.13"
  }
 },
 "nbformat": 4,
 "nbformat_minor": 2
}
