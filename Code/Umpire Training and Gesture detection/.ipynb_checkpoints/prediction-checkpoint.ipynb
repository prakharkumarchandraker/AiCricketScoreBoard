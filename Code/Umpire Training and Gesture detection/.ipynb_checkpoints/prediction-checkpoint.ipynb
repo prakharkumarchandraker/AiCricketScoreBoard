{
 "cells": [
  {
   "cell_type": "code",
   "execution_count": 1,
   "id": "090d6348",
   "metadata": {},
   "outputs": [],
   "source": [
    "import os\n",
    "import random\n",
    "from glob import glob\n",
    "\n",
    "import matplotlib.pyplot as plt\n",
    "import numpy as np\n",
    "#pip install split-folders\n",
    "import splitfolders\n",
    "\n",
    "from IPython.display import display\n",
    "from PIL import Image\n",
    "from sklearn.metrics import ConfusionMatrixDisplay, classification_report\n",
    "from sklearn.utils.class_weight import compute_class_weight\n",
    "from tensorflow.keras.applications.densenet import (DenseNet121,\n",
    "                                                    preprocess_input)\n",
    "from tensorflow.keras.callbacks import LearningRateScheduler\n",
    "from tensorflow.keras.layers import (BatchNormalization, Dense,\n",
    "                                     Dropout, Flatten, Input)\n",
    "from tensorflow.keras.metrics import Precision, Recall\n",
    "from tensorflow.keras.models import Sequential\n",
    "from tensorflow.keras.optimizers import Adam\n",
    "from tensorflow.keras.preprocessing.image import ImageDataGenerator"
   ]
  },
  {
   "cell_type": "code",
   "execution_count": 2,
   "id": "c58144f6",
   "metadata": {},
   "outputs": [],
   "source": [
    "from tensorflow.keras.models import load_model\n",
    "classifier = load_model('densenet121.hdf5')"
   ]
  },
  {
   "cell_type": "code",
   "execution_count": 3,
   "id": "91918a96",
   "metadata": {},
   "outputs": [],
   "source": [
    "def predict(image_path):\n",
    "    from skimage import io\n",
    "    from keras.preprocessing import image\n",
    "    #path='imbalanced/Scratch/Scratch_400.jpg'\n",
    "    import tensorflow as tf\n",
    "\n",
    "    img = tf.keras.utils.load_img(image_path, grayscale=False, target_size=(100, 100))\n",
    "    show_img=tf.keras.utils.load_img(image_path, grayscale=False, target_size=(100, 100))\n",
    "    disease_class = ['normal','umpire']\n",
    "    x = tf.keras.utils.img_to_array(img)\n",
    "    x = np.expand_dims(x, axis = 0)\n",
    "    #x = np.array(x, 'float32')\n",
    "    x /= 255\n",
    "\n",
    "    custom = classifier.predict(x)\n",
    "    print(custom[0])\n",
    "\n",
    "\n",
    "\n",
    "    #x = x.reshape([64, 64]);\n",
    "\n",
    "    #plt.gray()\n",
    "    plt.imshow(show_img)\n",
    "    plt.show()\n",
    "\n",
    "    a=custom[0]\n",
    "    ind=np.argmax(a)\n",
    "\n",
    "    print('Prediction:',disease_class[ind])\n",
    "    f=open('output.txt','w')\n",
    "    f.write(str(disease_class[ind]))\n",
    "    f.close()\n"
   ]
  },
  {
   "cell_type": "code",
   "execution_count": 4,
   "id": "7719e424",
   "metadata": {},
   "outputs": [],
   "source": [
    "import requests\n",
    "import shutil\n",
    "import time\n",
    "from PIL import Image\n",
    "\n",
    "import numpy as np\n",
    "url = \"http://192.168.43.194/capture\"\n",
    "\n",
    "def download():\n",
    "    \n",
    "    file_name = '1.png'\n",
    "\n",
    "    res = requests.get(url, stream = True)\n",
    "\n",
    "    if res.status_code == 200:\n",
    "        with open(file_name,'wb') as f:\n",
    "            shutil.copyfileobj(res.raw, f)\n",
    "        print('Image sucessfully Downloaded: ',file_name)\n",
    "    else:\n",
    "        print('Image Couldn\\'t be retrieved')\n",
    "    \n",
    "    "
   ]
  },
  {
   "cell_type": "code",
   "execution_count": null,
   "id": "23d46f4b",
   "metadata": {},
   "outputs": [],
   "source": [
    "while True:\n",
    "    download()\n",
    "    filename = '1.png'\n",
    "    predict(filename)\n",
    "                \n",
    "    time.sleep(10)"
   ]
  },
  {
   "cell_type": "code",
   "execution_count": null,
   "id": "2a63473d",
   "metadata": {},
   "outputs": [],
   "source": []
  }
 ],
 "metadata": {
  "kernelspec": {
   "display_name": "Python 3 (ipykernel)",
   "language": "python",
   "name": "python3"
  },
  "language_info": {
   "codemirror_mode": {
    "name": "ipython",
    "version": 3
   },
   "file_extension": ".py",
   "mimetype": "text/x-python",
   "name": "python",
   "nbconvert_exporter": "python",
   "pygments_lexer": "ipython3",
   "version": "3.9.13"
  }
 },
 "nbformat": 4,
 "nbformat_minor": 5
}
